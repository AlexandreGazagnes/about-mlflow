{
 "cells": [
  {
   "cell_type": "markdown",
   "id": "ee086331",
   "metadata": {},
   "source": [
    "# Fancy DS Stuff"
   ]
  },
  {
   "cell_type": "markdown",
   "id": "2c3eab76",
   "metadata": {},
   "source": [
    "## 1. Preliminary "
   ]
  },
  {
   "cell_type": "markdown",
   "id": "b57cf52e",
   "metadata": {
    "heading_collapsed": true
   },
   "source": [
    "### 1.1 Context"
   ]
  },
  {
   "cell_type": "markdown",
   "id": "5021d4df",
   "metadata": {
    "hidden": true
   },
   "source": [
    "Just to use Mlflow"
   ]
  },
  {
   "cell_type": "markdown",
   "id": "1c18f08b",
   "metadata": {
    "heading_collapsed": true
   },
   "source": [
    "### 1.2 Install"
   ]
  },
  {
   "cell_type": "code",
   "execution_count": 1,
   "id": "48bc4e69",
   "metadata": {
    "ExecuteTime": {
     "end_time": "2023-02-01T12:17:45.955510Z",
     "start_time": "2023-02-01T12:17:45.718090Z"
    },
    "hidden": true
   },
   "outputs": [
    {
     "name": "stdout",
     "output_type": "stream",
     "text": [
      "Python 3.8.10\r\n"
     ]
    }
   ],
   "source": [
    "!python -V"
   ]
  },
  {
   "cell_type": "code",
   "execution_count": 2,
   "id": "70a8e596",
   "metadata": {
    "ExecuteTime": {
     "end_time": "2023-02-01T12:17:48.842193Z",
     "start_time": "2023-02-01T12:17:45.958489Z"
    },
    "hidden": true
   },
   "outputs": [
    {
     "name": "stdout",
     "output_type": "stream",
     "text": [
      "Requirement already satisfied: mlflow in /home/alex/ENV/lib/python3.8/site-packages (from -r requirements.txt (line 1)) (2.1.1)\n",
      "Requirement already satisfied: xgboost in /home/alex/ENV/lib/python3.8/site-packages (from -r requirements.txt (line 5)) (1.5.2)\n",
      "Requirement already satisfied: lightgbm in /home/alex/ENV/lib/python3.8/site-packages (from -r requirements.txt (line 6)) (3.3.2)\n",
      "Requirement already satisfied: seaborn in /home/alex/ENV/lib/python3.8/site-packages (from -r requirements.txt (line 10)) (0.11.2)\n",
      "Requirement already satisfied: plotly in /home/alex/ENV/lib/python3.8/site-packages (from -r requirements.txt (line 11)) (5.5.0)\n",
      "Requirement already satisfied: streamlit in /home/alex/ENV/lib/python3.8/site-packages (from -r requirements.txt (line 14)) (1.5.1)\n",
      "Requirement already satisfied: Flask in /home/alex/ENV/lib/python3.8/site-packages (from -r requirements.txt (line 15)) (1.1.2)\n",
      "Requirement already satisfied: requests in /home/alex/ENV/lib/python3.8/site-packages (from -r requirements.txt (line 16)) (2.27.1)\n",
      "Requirement already satisfied: Ipython in /home/alex/ENV/lib/python3.8/site-packages (from -r requirements.txt (line 19)) (7.18.1)\n",
      "Requirement already satisfied: pytest in /home/alex/ENV/lib/python3.8/site-packages (from -r requirements.txt (line 20)) (6.2.4)\n",
      "Requirement already satisfied: flake8 in /home/alex/ENV/lib/python3.8/site-packages (from -r requirements.txt (line 21)) (4.0.1)\n",
      "Requirement already satisfied: black in /home/alex/ENV/lib/python3.8/site-packages (from -r requirements.txt (line 22)) (20.8b1)\n",
      "Requirement already satisfied: pylint in /home/alex/ENV/lib/python3.8/site-packages (from -r requirements.txt (line 23)) (2.6.0)\n",
      "Requirement already satisfied: markdown<4,>=3.3 in /home/alex/ENV/lib/python3.8/site-packages (from mlflow->-r requirements.txt (line 1)) (3.3.4)\n",
      "Requirement already satisfied: gunicorn<21 in /home/alex/ENV/lib/python3.8/site-packages (from mlflow->-r requirements.txt (line 1)) (20.1.0)\n",
      "Requirement already satisfied: sqlalchemy<2,>=1.4.0 in /home/alex/ENV/lib/python3.8/site-packages (from mlflow->-r requirements.txt (line 1)) (1.4.46)\n",
      "Requirement already satisfied: alembic<2 in /home/alex/ENV/lib/python3.8/site-packages (from mlflow->-r requirements.txt (line 1)) (1.7.6)\n",
      "Requirement already satisfied: Jinja2<4,>=2.11 in /home/alex/ENV/lib/python3.8/site-packages (from mlflow->-r requirements.txt (line 1)) (3.1.2)\n",
      "Requirement already satisfied: numpy<2 in /home/alex/ENV/lib/python3.8/site-packages (from mlflow->-r requirements.txt (line 1)) (1.20.3)\n",
      "Requirement already satisfied: pyyaml<7,>=5.1 in /home/alex/ENV/lib/python3.8/site-packages (from mlflow->-r requirements.txt (line 1)) (5.4.1)\n",
      "Requirement already satisfied: pandas<2 in /home/alex/ENV/lib/python3.8/site-packages (from mlflow->-r requirements.txt (line 1)) (1.4.2)\n",
      "Requirement already satisfied: querystring-parser<2 in /home/alex/ENV/lib/python3.8/site-packages (from mlflow->-r requirements.txt (line 1)) (1.2.4)\n",
      "Requirement already satisfied: pyarrow<11,>=4.0.0 in /home/alex/ENV/lib/python3.8/site-packages (from mlflow->-r requirements.txt (line 1)) (7.0.0)\n",
      "Requirement already satisfied: scipy<2 in /home/alex/ENV/lib/python3.8/site-packages (from mlflow->-r requirements.txt (line 1)) (1.6.3)\n",
      "Requirement already satisfied: entrypoints<1 in /home/alex/ENV/lib/python3.8/site-packages (from mlflow->-r requirements.txt (line 1)) (0.3)\n",
      "Requirement already satisfied: sqlparse<1,>=0.4.0 in /home/alex/ENV/lib/python3.8/site-packages (from mlflow->-r requirements.txt (line 1)) (0.4.3)\n",
      "Requirement already satisfied: click<9,>=7.0 in /home/alex/ENV/lib/python3.8/site-packages (from mlflow->-r requirements.txt (line 1)) (7.1.2)\n",
      "Requirement already satisfied: shap<1,>=0.40 in /home/alex/ENV/lib/python3.8/site-packages (from mlflow->-r requirements.txt (line 1)) (0.40.0)\n",
      "Requirement already satisfied: cloudpickle<3 in /home/alex/ENV/lib/python3.8/site-packages (from mlflow->-r requirements.txt (line 1)) (2.0.0)\n",
      "Requirement already satisfied: importlib-metadata!=4.7.0,<6,>=3.7.0 in /home/alex/ENV/lib/python3.8/site-packages (from mlflow->-r requirements.txt (line 1)) (4.11.3)\n",
      "Requirement already satisfied: scikit-learn<2 in /home/alex/ENV/lib/python3.8/site-packages (from mlflow->-r requirements.txt (line 1)) (1.0.2)\n",
      "Requirement already satisfied: databricks-cli<1,>=0.8.7 in /home/alex/ENV/lib/python3.8/site-packages (from mlflow->-r requirements.txt (line 1)) (0.17.4)\n",
      "Requirement already satisfied: gitpython<4,>=2.1.0 in /home/alex/ENV/lib/python3.8/site-packages (from mlflow->-r requirements.txt (line 1)) (3.1.27)\n",
      "Requirement already satisfied: packaging<23 in /home/alex/ENV/lib/python3.8/site-packages (from mlflow->-r requirements.txt (line 1)) (21.3)\n",
      "Requirement already satisfied: protobuf<5,>=3.12.0 in /home/alex/ENV/lib/python3.8/site-packages (from mlflow->-r requirements.txt (line 1)) (3.17.1)\n",
      "Requirement already satisfied: pytz<2023 in /home/alex/ENV/lib/python3.8/site-packages (from mlflow->-r requirements.txt (line 1)) (2020.1)\n",
      "Requirement already satisfied: matplotlib<4 in /home/alex/ENV/lib/python3.8/site-packages (from mlflow->-r requirements.txt (line 1)) (3.5.1)\n",
      "Requirement already satisfied: docker<7,>=4.0.0 in /home/alex/ENV/lib/python3.8/site-packages (from mlflow->-r requirements.txt (line 1)) (6.0.1)\n",
      "Requirement already satisfied: itsdangerous>=0.24 in /home/alex/ENV/lib/python3.8/site-packages (from Flask->-r requirements.txt (line 15)) (1.1.0)\n",
      "Requirement already satisfied: Werkzeug>=0.15 in /home/alex/ENV/lib/python3.8/site-packages (from Flask->-r requirements.txt (line 15)) (1.0.1)\n",
      "Requirement already satisfied: certifi>=2017.4.17 in /home/alex/ENV/lib/python3.8/site-packages (from requests->-r requirements.txt (line 16)) (2020.6.20)\n",
      "Requirement already satisfied: urllib3<1.27,>=1.21.1 in /home/alex/ENV/lib/python3.8/site-packages (from requests->-r requirements.txt (line 16)) (1.26.13)\n",
      "Requirement already satisfied: charset-normalizer~=2.0.0 in /home/alex/ENV/lib/python3.8/site-packages (from requests->-r requirements.txt (line 16)) (2.0.12)\n",
      "Requirement already satisfied: idna<4,>=2.5 in /home/alex/ENV/lib/python3.8/site-packages (from requests->-r requirements.txt (line 16)) (2.10)\n",
      "Requirement already satisfied: importlib-resources in /home/alex/ENV/lib/python3.8/site-packages (from alembic<2->mlflow->-r requirements.txt (line 1)) (5.4.0)\n",
      "Requirement already satisfied: Mako in /home/alex/ENV/lib/python3.8/site-packages (from alembic<2->mlflow->-r requirements.txt (line 1)) (1.1.6)\n",
      "Requirement already satisfied: six>=1.10.0 in /home/alex/ENV/lib/python3.8/site-packages (from databricks-cli<1,>=0.8.7->mlflow->-r requirements.txt (line 1)) (1.15.0)\n",
      "Requirement already satisfied: tabulate>=0.7.7 in /home/alex/ENV/lib/python3.8/site-packages (from databricks-cli<1,>=0.8.7->mlflow->-r requirements.txt (line 1)) (0.8.9)\n",
      "Requirement already satisfied: pyjwt>=1.7.0 in /home/alex/ENV/lib/python3.8/site-packages (from databricks-cli<1,>=0.8.7->mlflow->-r requirements.txt (line 1)) (1.7.1)\n",
      "Requirement already satisfied: oauthlib>=3.1.0 in /home/alex/ENV/lib/python3.8/site-packages (from databricks-cli<1,>=0.8.7->mlflow->-r requirements.txt (line 1)) (3.1.1)\n",
      "Requirement already satisfied: websocket-client>=0.32.0 in /home/alex/ENV/lib/python3.8/site-packages (from docker<7,>=4.0.0->mlflow->-r requirements.txt (line 1)) (1.4.2)\n",
      "Requirement already satisfied: gitdb<5,>=4.0.1 in /home/alex/ENV/lib/python3.8/site-packages (from gitpython<4,>=2.1.0->mlflow->-r requirements.txt (line 1)) (4.0.9)\n",
      "Requirement already satisfied: smmap<6,>=3.0.1 in /home/alex/ENV/lib/python3.8/site-packages (from gitdb<5,>=4.0.1->gitpython<4,>=2.1.0->mlflow->-r requirements.txt (line 1)) (5.0.0)\n",
      "Requirement already satisfied: setuptools>=3.0 in /home/alex/ENV/lib/python3.8/site-packages (from gunicorn<21->mlflow->-r requirements.txt (line 1)) (54.1.3)\n",
      "Requirement already satisfied: zipp>=0.5 in /home/alex/ENV/lib/python3.8/site-packages (from importlib-metadata!=4.7.0,<6,>=3.7.0->mlflow->-r requirements.txt (line 1)) (3.7.0)\n",
      "Requirement already satisfied: MarkupSafe>=2.0 in /home/alex/ENV/lib/python3.8/site-packages (from Jinja2<4,>=2.11->mlflow->-r requirements.txt (line 1)) (2.1.1)\n"
     ]
    },
    {
     "name": "stdout",
     "output_type": "stream",
     "text": [
      "Requirement already satisfied: python-dateutil>=2.7 in /home/alex/ENV/lib/python3.8/site-packages (from matplotlib<4->mlflow->-r requirements.txt (line 1)) (2.8.2)\n",
      "Requirement already satisfied: kiwisolver>=1.0.1 in /home/alex/ENV/lib/python3.8/site-packages (from matplotlib<4->mlflow->-r requirements.txt (line 1)) (1.2.0)\n",
      "Requirement already satisfied: pillow>=6.2.0 in /home/alex/ENV/lib/python3.8/site-packages (from matplotlib<4->mlflow->-r requirements.txt (line 1)) (9.0.0)\n",
      "Requirement already satisfied: fonttools>=4.22.0 in /home/alex/ENV/lib/python3.8/site-packages (from matplotlib<4->mlflow->-r requirements.txt (line 1)) (4.28.5)\n",
      "Requirement already satisfied: cycler>=0.10 in /home/alex/ENV/lib/python3.8/site-packages (from matplotlib<4->mlflow->-r requirements.txt (line 1)) (0.10.0)\n",
      "Requirement already satisfied: pyparsing>=2.2.1 in /home/alex/ENV/lib/python3.8/site-packages (from matplotlib<4->mlflow->-r requirements.txt (line 1)) (2.4.7)\n",
      "Requirement already satisfied: threadpoolctl>=2.0.0 in /home/alex/ENV/lib/python3.8/site-packages (from scikit-learn<2->mlflow->-r requirements.txt (line 1)) (2.1.0)\n",
      "Requirement already satisfied: joblib>=0.11 in /home/alex/ENV/lib/python3.8/site-packages (from scikit-learn<2->mlflow->-r requirements.txt (line 1)) (1.0.1)\n",
      "Requirement already satisfied: slicer==0.0.7 in /home/alex/ENV/lib/python3.8/site-packages (from shap<1,>=0.40->mlflow->-r requirements.txt (line 1)) (0.0.7)\n",
      "Requirement already satisfied: tqdm>4.25.0 in /home/alex/ENV/lib/python3.8/site-packages (from shap<1,>=0.40->mlflow->-r requirements.txt (line 1)) (4.60.0)\n",
      "Requirement already satisfied: numba in /home/alex/ENV/lib/python3.8/site-packages (from shap<1,>=0.40->mlflow->-r requirements.txt (line 1)) (0.54.1)\n",
      "Requirement already satisfied: greenlet!=0.4.17 in /home/alex/ENV/lib/python3.8/site-packages (from sqlalchemy<2,>=1.4.0->mlflow->-r requirements.txt (line 1)) (2.0.1)\n",
      "Requirement already satisfied: wheel in /home/alex/ENV/lib/python3.8/site-packages (from lightgbm->-r requirements.txt (line 6)) (0.36.2)\n",
      "Requirement already satisfied: tenacity>=6.2.0 in /home/alex/ENV/lib/python3.8/site-packages (from plotly->-r requirements.txt (line 11)) (8.0.1)\n",
      "Requirement already satisfied: altair>=3.2.0 in /home/alex/ENV/lib/python3.8/site-packages (from streamlit->-r requirements.txt (line 14)) (4.2.0)\n",
      "Requirement already satisfied: watchdog in /home/alex/ENV/lib/python3.8/site-packages (from streamlit->-r requirements.txt (line 14)) (2.1.6)\n",
      "Requirement already satisfied: blinker in /home/alex/ENV/lib/python3.8/site-packages (from streamlit->-r requirements.txt (line 14)) (1.4)\n",
      "Requirement already satisfied: tzlocal in /home/alex/ENV/lib/python3.8/site-packages (from streamlit->-r requirements.txt (line 14)) (2.1)\n",
      "Requirement already satisfied: toml in /home/alex/ENV/lib/python3.8/site-packages (from streamlit->-r requirements.txt (line 14)) (0.10.1)\n",
      "Requirement already satisfied: pympler>=0.9 in /home/alex/ENV/lib/python3.8/site-packages (from streamlit->-r requirements.txt (line 14)) (1.0.1)\n",
      "Requirement already satisfied: pydeck>=0.1.dev5 in /home/alex/ENV/lib/python3.8/site-packages (from streamlit->-r requirements.txt (line 14)) (0.7.1)\n",
      "Requirement already satisfied: base58 in /home/alex/ENV/lib/python3.8/site-packages (from streamlit->-r requirements.txt (line 14)) (2.1.1)\n",
      "Requirement already satisfied: cachetools>=4.0 in /home/alex/ENV/lib/python3.8/site-packages (from streamlit->-r requirements.txt (line 14)) (4.2.2)\n",
      "Requirement already satisfied: tornado>=5.0 in /home/alex/ENV/lib/python3.8/site-packages (from streamlit->-r requirements.txt (line 14)) (6.2)\n",
      "Requirement already satisfied: validators in /home/alex/ENV/lib/python3.8/site-packages (from streamlit->-r requirements.txt (line 14)) (0.18.2)\n",
      "Requirement already satisfied: astor in /home/alex/ENV/lib/python3.8/site-packages (from streamlit->-r requirements.txt (line 14)) (0.8.1)\n",
      "Requirement already satisfied: attrs in /home/alex/ENV/lib/python3.8/site-packages (from streamlit->-r requirements.txt (line 14)) (20.2.0)\n",
      "Requirement already satisfied: toolz in /home/alex/ENV/lib/python3.8/site-packages (from altair>=3.2.0->streamlit->-r requirements.txt (line 14)) (0.11.2)\n",
      "Requirement already satisfied: jsonschema>=3.0 in /home/alex/ENV/lib/python3.8/site-packages (from altair>=3.2.0->streamlit->-r requirements.txt (line 14)) (3.2.0)\n",
      "Requirement already satisfied: pyrsistent>=0.14.0 in /home/alex/ENV/lib/python3.8/site-packages (from jsonschema>=3.0->altair>=3.2.0->streamlit->-r requirements.txt (line 14)) (0.17.3)\n",
      "Requirement already satisfied: ipywidgets>=7.0.0 in /home/alex/ENV/lib/python3.8/site-packages (from pydeck>=0.1.dev5->streamlit->-r requirements.txt (line 14)) (7.6.3)\n",
      "Requirement already satisfied: ipykernel>=5.1.2 in /home/alex/ENV/lib/python3.8/site-packages (from pydeck>=0.1.dev5->streamlit->-r requirements.txt (line 14)) (5.5.4)\n",
      "Requirement already satisfied: traitlets>=4.3.2 in /home/alex/ENV/lib/python3.8/site-packages (from pydeck>=0.1.dev5->streamlit->-r requirements.txt (line 14)) (5.9.0)\n",
      "Requirement already satisfied: jupyter-client in /home/alex/ENV/lib/python3.8/site-packages (from ipykernel>=5.1.2->pydeck>=0.1.dev5->streamlit->-r requirements.txt (line 14)) (8.0.2)\n",
      "Requirement already satisfied: pickleshare in /home/alex/ENV/lib/python3.8/site-packages (from Ipython->-r requirements.txt (line 19)) (0.7.5)\n",
      "Requirement already satisfied: prompt-toolkit!=3.0.0,!=3.0.1,<3.1.0,>=2.0.0 in /home/alex/ENV/lib/python3.8/site-packages (from Ipython->-r requirements.txt (line 19)) (3.0.7)\n",
      "Requirement already satisfied: jedi>=0.10 in /home/alex/ENV/lib/python3.8/site-packages (from Ipython->-r requirements.txt (line 19)) (0.17.2)\n",
      "Requirement already satisfied: pexpect>4.3 in /home/alex/ENV/lib/python3.8/site-packages (from Ipython->-r requirements.txt (line 19)) (4.8.0)\n",
      "Requirement already satisfied: pygments in /home/alex/ENV/lib/python3.8/site-packages (from Ipython->-r requirements.txt (line 19)) (2.11.2)\n",
      "Requirement already satisfied: backcall in /home/alex/ENV/lib/python3.8/site-packages (from Ipython->-r requirements.txt (line 19)) (0.2.0)\n",
      "Requirement already satisfied: decorator in /home/alex/ENV/lib/python3.8/site-packages (from Ipython->-r requirements.txt (line 19)) (4.4.2)\n",
      "Requirement already satisfied: nbformat>=4.2.0 in /home/alex/ENV/lib/python3.8/site-packages (from ipywidgets>=7.0.0->pydeck>=0.1.dev5->streamlit->-r requirements.txt (line 14)) (5.7.3)\n",
      "Requirement already satisfied: widgetsnbextension~=3.5.0 in /home/alex/ENV/lib/python3.8/site-packages (from ipywidgets>=7.0.0->pydeck>=0.1.dev5->streamlit->-r requirements.txt (line 14)) (3.5.1)\n",
      "Requirement already satisfied: jupyterlab-widgets>=1.0.0 in /home/alex/ENV/lib/python3.8/site-packages (from ipywidgets>=7.0.0->pydeck>=0.1.dev5->streamlit->-r requirements.txt (line 14)) (1.0.0)\n",
      "Requirement already satisfied: parso<0.8.0,>=0.7.0 in /home/alex/ENV/lib/python3.8/site-packages (from jedi>=0.10->Ipython->-r requirements.txt (line 19)) (0.7.1)\n",
      "Requirement already satisfied: jupyter-core in /home/alex/ENV/lib/python3.8/site-packages (from nbformat>=4.2.0->ipywidgets>=7.0.0->pydeck>=0.1.dev5->streamlit->-r requirements.txt (line 14)) (5.2.0)\n",
      "Requirement already satisfied: fastjsonschema in /home/alex/ENV/lib/python3.8/site-packages (from nbformat>=4.2.0->ipywidgets>=7.0.0->pydeck>=0.1.dev5->streamlit->-r requirements.txt (line 14)) (2.16.2)\n",
      "Requirement already satisfied: ptyprocess>=0.5 in /home/alex/ENV/lib/python3.8/site-packages (from pexpect>4.3->Ipython->-r requirements.txt (line 19)) (0.6.0)\n",
      "Requirement already satisfied: wcwidth in /home/alex/ENV/lib/python3.8/site-packages (from prompt-toolkit!=3.0.0,!=3.0.1,<3.1.0,>=2.0.0->Ipython->-r requirements.txt (line 19)) (0.2.5)\n",
      "Requirement already satisfied: notebook>=4.4.1 in /home/alex/ENV/lib/python3.8/site-packages (from widgetsnbextension~=3.5.0->ipywidgets>=7.0.0->pydeck>=0.1.dev5->streamlit->-r requirements.txt (line 14)) (6.5.2)\n",
      "Requirement already satisfied: Send2Trash>=1.8.0 in /home/alex/ENV/lib/python3.8/site-packages (from notebook>=4.4.1->widgetsnbextension~=3.5.0->ipywidgets>=7.0.0->pydeck>=0.1.dev5->streamlit->-r requirements.txt (line 14)) (1.8.0)\n",
      "Requirement already satisfied: nest-asyncio>=1.5 in /home/alex/ENV/lib/python3.8/site-packages (from notebook>=4.4.1->widgetsnbextension~=3.5.0->ipywidgets>=7.0.0->pydeck>=0.1.dev5->streamlit->-r requirements.txt (line 14)) (1.5.1)\n",
      "Requirement already satisfied: pyzmq>=17 in /home/alex/ENV/lib/python3.8/site-packages (from notebook>=4.4.1->widgetsnbextension~=3.5.0->ipywidgets>=7.0.0->pydeck>=0.1.dev5->streamlit->-r requirements.txt (line 14)) (25.0.0)\n",
      "Requirement already satisfied: nbconvert>=5 in /home/alex/ENV/lib/python3.8/site-packages (from notebook>=4.4.1->widgetsnbextension~=3.5.0->ipywidgets>=7.0.0->pydeck>=0.1.dev5->streamlit->-r requirements.txt (line 14)) (7.2.9)\n",
      "Requirement already satisfied: argon2-cffi in /home/alex/ENV/lib/python3.8/site-packages (from notebook>=4.4.1->widgetsnbextension~=3.5.0->ipywidgets>=7.0.0->pydeck>=0.1.dev5->streamlit->-r requirements.txt (line 14)) (20.1.0)\n",
      "Requirement already satisfied: nbclassic>=0.4.7 in /home/alex/ENV/lib/python3.8/site-packages (from notebook>=4.4.1->widgetsnbextension~=3.5.0->ipywidgets>=7.0.0->pydeck>=0.1.dev5->streamlit->-r requirements.txt (line 14)) (0.5.1)\n",
      "Requirement already satisfied: ipython-genutils in /home/alex/ENV/lib/python3.8/site-packages (from notebook>=4.4.1->widgetsnbextension~=3.5.0->ipywidgets>=7.0.0->pydeck>=0.1.dev5->streamlit->-r requirements.txt (line 14)) (0.2.0)\n",
      "Requirement already satisfied: terminado>=0.8.3 in /home/alex/ENV/lib/python3.8/site-packages (from notebook>=4.4.1->widgetsnbextension~=3.5.0->ipywidgets>=7.0.0->pydeck>=0.1.dev5->streamlit->-r requirements.txt (line 14)) (0.9.4)\n",
      "Requirement already satisfied: prometheus-client in /home/alex/ENV/lib/python3.8/site-packages (from notebook>=4.4.1->widgetsnbextension~=3.5.0->ipywidgets>=7.0.0->pydeck>=0.1.dev5->streamlit->-r requirements.txt (line 14)) (0.10.1)\n"
     ]
    },
    {
     "name": "stdout",
     "output_type": "stream",
     "text": [
      "Requirement already satisfied: platformdirs>=2.5 in /home/alex/ENV/lib/python3.8/site-packages (from jupyter-core->nbformat>=4.2.0->ipywidgets>=7.0.0->pydeck>=0.1.dev5->streamlit->-r requirements.txt (line 14)) (2.6.2)\n",
      "Requirement already satisfied: jupyter-server>=1.17.0 in /home/alex/ENV/lib/python3.8/site-packages (from nbclassic>=0.4.7->notebook>=4.4.1->widgetsnbextension~=3.5.0->ipywidgets>=7.0.0->pydeck>=0.1.dev5->streamlit->-r requirements.txt (line 14)) (2.2.0)\n",
      "Requirement already satisfied: notebook-shim>=0.1.0 in /home/alex/ENV/lib/python3.8/site-packages (from nbclassic>=0.4.7->notebook>=4.4.1->widgetsnbextension~=3.5.0->ipywidgets>=7.0.0->pydeck>=0.1.dev5->streamlit->-r requirements.txt (line 14)) (0.2.2)\n",
      "Requirement already satisfied: anyio<4,>=3.1.0 in /home/alex/ENV/lib/python3.8/site-packages (from jupyter-server>=1.17.0->nbclassic>=0.4.7->notebook>=4.4.1->widgetsnbextension~=3.5.0->ipywidgets>=7.0.0->pydeck>=0.1.dev5->streamlit->-r requirements.txt (line 14)) (3.6.2)\n",
      "Requirement already satisfied: jupyter-events>=0.4.0 in /home/alex/ENV/lib/python3.8/site-packages (from jupyter-server>=1.17.0->nbclassic>=0.4.7->notebook>=4.4.1->widgetsnbextension~=3.5.0->ipywidgets>=7.0.0->pydeck>=0.1.dev5->streamlit->-r requirements.txt (line 14)) (0.6.3)\n",
      "Requirement already satisfied: jupyter-server-terminals in /home/alex/ENV/lib/python3.8/site-packages (from jupyter-server>=1.17.0->nbclassic>=0.4.7->notebook>=4.4.1->widgetsnbextension~=3.5.0->ipywidgets>=7.0.0->pydeck>=0.1.dev5->streamlit->-r requirements.txt (line 14)) (0.4.4)\n",
      "Requirement already satisfied: sniffio>=1.1 in /home/alex/ENV/lib/python3.8/site-packages (from anyio<4,>=3.1.0->jupyter-server>=1.17.0->nbclassic>=0.4.7->notebook>=4.4.1->widgetsnbextension~=3.5.0->ipywidgets>=7.0.0->pydeck>=0.1.dev5->streamlit->-r requirements.txt (line 14)) (1.2.0)\n",
      "Requirement already satisfied: rfc3986-validator>=0.1.1 in /home/alex/ENV/lib/python3.8/site-packages (from jupyter-events>=0.4.0->jupyter-server>=1.17.0->nbclassic>=0.4.7->notebook>=4.4.1->widgetsnbextension~=3.5.0->ipywidgets>=7.0.0->pydeck>=0.1.dev5->streamlit->-r requirements.txt (line 14)) (0.1.1)\n",
      "Requirement already satisfied: python-json-logger>=2.0.4 in /home/alex/ENV/lib/python3.8/site-packages (from jupyter-events>=0.4.0->jupyter-server>=1.17.0->nbclassic>=0.4.7->notebook>=4.4.1->widgetsnbextension~=3.5.0->ipywidgets>=7.0.0->pydeck>=0.1.dev5->streamlit->-r requirements.txt (line 14)) (2.0.4)\n",
      "Requirement already satisfied: rfc3339-validator in /home/alex/ENV/lib/python3.8/site-packages (from jupyter-events>=0.4.0->jupyter-server>=1.17.0->nbclassic>=0.4.7->notebook>=4.4.1->widgetsnbextension~=3.5.0->ipywidgets>=7.0.0->pydeck>=0.1.dev5->streamlit->-r requirements.txt (line 14)) (0.1.4)\n",
      "\u001b[33mWARNING: jsonschema 3.2.0 does not provide the extra 'format-nongpl'\u001b[0m\n",
      "Requirement already satisfied: tinycss2 in /home/alex/ENV/lib/python3.8/site-packages (from nbconvert>=5->notebook>=4.4.1->widgetsnbextension~=3.5.0->ipywidgets>=7.0.0->pydeck>=0.1.dev5->streamlit->-r requirements.txt (line 14)) (1.2.1)\n",
      "Requirement already satisfied: nbclient>=0.5.0 in /home/alex/ENV/lib/python3.8/site-packages (from nbconvert>=5->notebook>=4.4.1->widgetsnbextension~=3.5.0->ipywidgets>=7.0.0->pydeck>=0.1.dev5->streamlit->-r requirements.txt (line 14)) (0.5.3)\n",
      "Requirement already satisfied: jupyterlab-pygments in /home/alex/ENV/lib/python3.8/site-packages (from nbconvert>=5->notebook>=4.4.1->widgetsnbextension~=3.5.0->ipywidgets>=7.0.0->pydeck>=0.1.dev5->streamlit->-r requirements.txt (line 14)) (0.1.2)\n",
      "Requirement already satisfied: bleach in /home/alex/ENV/lib/python3.8/site-packages (from nbconvert>=5->notebook>=4.4.1->widgetsnbextension~=3.5.0->ipywidgets>=7.0.0->pydeck>=0.1.dev5->streamlit->-r requirements.txt (line 14)) (3.3.0)\n",
      "Requirement already satisfied: defusedxml in /home/alex/ENV/lib/python3.8/site-packages (from nbconvert>=5->notebook>=4.4.1->widgetsnbextension~=3.5.0->ipywidgets>=7.0.0->pydeck>=0.1.dev5->streamlit->-r requirements.txt (line 14)) (0.7.1)\n",
      "Requirement already satisfied: mistune<3,>=2.0.3 in /home/alex/ENV/lib/python3.8/site-packages (from nbconvert>=5->notebook>=4.4.1->widgetsnbextension~=3.5.0->ipywidgets>=7.0.0->pydeck>=0.1.dev5->streamlit->-r requirements.txt (line 14)) (2.0.4)\n",
      "Requirement already satisfied: beautifulsoup4 in /home/alex/ENV/lib/python3.8/site-packages (from nbconvert>=5->notebook>=4.4.1->widgetsnbextension~=3.5.0->ipywidgets>=7.0.0->pydeck>=0.1.dev5->streamlit->-r requirements.txt (line 14)) (4.9.3)\n",
      "Requirement already satisfied: pandocfilters>=1.4.1 in /home/alex/ENV/lib/python3.8/site-packages (from nbconvert>=5->notebook>=4.4.1->widgetsnbextension~=3.5.0->ipywidgets>=7.0.0->pydeck>=0.1.dev5->streamlit->-r requirements.txt (line 14)) (1.4.3)\n",
      "Requirement already satisfied: async-generator in /home/alex/ENV/lib/python3.8/site-packages (from nbclient>=0.5.0->nbconvert>=5->notebook>=4.4.1->widgetsnbextension~=3.5.0->ipywidgets>=7.0.0->pydeck>=0.1.dev5->streamlit->-r requirements.txt (line 14)) (1.10)\n",
      "Requirement already satisfied: py>=1.8.2 in /home/alex/ENV/lib/python3.8/site-packages (from pytest->-r requirements.txt (line 20)) (1.9.0)\n",
      "Requirement already satisfied: pluggy<1.0.0a1,>=0.12 in /home/alex/ENV/lib/python3.8/site-packages (from pytest->-r requirements.txt (line 20)) (0.13.1)\n",
      "Requirement already satisfied: iniconfig in /home/alex/ENV/lib/python3.8/site-packages (from pytest->-r requirements.txt (line 20)) (1.0.1)\n",
      "Requirement already satisfied: pycodestyle<2.9.0,>=2.8.0 in /home/alex/ENV/lib/python3.8/site-packages (from flake8->-r requirements.txt (line 21)) (2.8.0)\n",
      "Requirement already satisfied: mccabe<0.7.0,>=0.6.0 in /home/alex/ENV/lib/python3.8/site-packages (from flake8->-r requirements.txt (line 21)) (0.6.1)\n",
      "Requirement already satisfied: pyflakes<2.5.0,>=2.4.0 in /home/alex/ENV/lib/python3.8/site-packages (from flake8->-r requirements.txt (line 21)) (2.4.0)\n",
      "Requirement already satisfied: typed-ast>=1.4.0 in /home/alex/ENV/lib/python3.8/site-packages (from black->-r requirements.txt (line 22)) (1.4.1)\n",
      "Requirement already satisfied: regex>=2020.1.8 in /home/alex/ENV/lib/python3.8/site-packages (from black->-r requirements.txt (line 22)) (2020.9.27)\n",
      "Requirement already satisfied: mypy-extensions>=0.4.3 in /home/alex/ENV/lib/python3.8/site-packages (from black->-r requirements.txt (line 22)) (0.4.3)\n",
      "Requirement already satisfied: typing-extensions>=3.7.4 in /home/alex/ENV/lib/python3.8/site-packages (from black->-r requirements.txt (line 22)) (3.7.4.3)\n",
      "Requirement already satisfied: pathspec<1,>=0.6 in /home/alex/ENV/lib/python3.8/site-packages (from black->-r requirements.txt (line 22)) (0.8.0)\n",
      "Requirement already satisfied: appdirs in /home/alex/ENV/lib/python3.8/site-packages (from black->-r requirements.txt (line 22)) (1.4.4)\n",
      "Requirement already satisfied: astroid<=2.5,>=2.4.0 in /home/alex/ENV/lib/python3.8/site-packages (from pylint->-r requirements.txt (line 23)) (2.4.2)\n",
      "Requirement already satisfied: isort<6,>=4.2.5 in /home/alex/ENV/lib/python3.8/site-packages (from pylint->-r requirements.txt (line 23)) (5.6.1)\n",
      "Requirement already satisfied: lazy-object-proxy==1.4.* in /home/alex/ENV/lib/python3.8/site-packages (from astroid<=2.5,>=2.4.0->pylint->-r requirements.txt (line 23)) (1.4.3)\n",
      "Requirement already satisfied: wrapt~=1.11 in /home/alex/ENV/lib/python3.8/site-packages (from astroid<=2.5,>=2.4.0->pylint->-r requirements.txt (line 23)) (1.12.1)\n",
      "Requirement already satisfied: cffi>=1.0.0 in /home/alex/ENV/lib/python3.8/site-packages (from argon2-cffi->notebook>=4.4.1->widgetsnbextension~=3.5.0->ipywidgets>=7.0.0->pydeck>=0.1.dev5->streamlit->-r requirements.txt (line 14)) (1.14.3)\n",
      "Requirement already satisfied: pycparser in /home/alex/ENV/lib/python3.8/site-packages (from cffi>=1.0.0->argon2-cffi->notebook>=4.4.1->widgetsnbextension~=3.5.0->ipywidgets>=7.0.0->pydeck>=0.1.dev5->streamlit->-r requirements.txt (line 14)) (2.20)\n",
      "Requirement already satisfied: soupsieve>1.2 in /home/alex/ENV/lib/python3.8/site-packages (from beautifulsoup4->nbconvert>=5->notebook>=4.4.1->widgetsnbextension~=3.5.0->ipywidgets>=7.0.0->pydeck>=0.1.dev5->streamlit->-r requirements.txt (line 14)) (2.0.1)\n"
     ]
    },
    {
     "name": "stdout",
     "output_type": "stream",
     "text": [
      "Requirement already satisfied: webencodings in /home/alex/ENV/lib/python3.8/site-packages (from bleach->nbconvert>=5->notebook>=4.4.1->widgetsnbextension~=3.5.0->ipywidgets>=7.0.0->pydeck>=0.1.dev5->streamlit->-r requirements.txt (line 14)) (0.5.1)\n",
      "Requirement already satisfied: llvmlite<0.38,>=0.37.0rc1 in /home/alex/ENV/lib/python3.8/site-packages (from numba->shap<1,>=0.40->mlflow->-r requirements.txt (line 1)) (0.37.0)\n",
      "\u001b[33mWARNING: You are using pip version 21.1.3; however, version 22.3.1 is available.\n",
      "You should consider upgrading via the '/home/alex/ENV/bin/python -m pip install --upgrade pip' command.\u001b[0m\n"
     ]
    }
   ],
   "source": [
    "!pip install -r requirements.txt"
   ]
  },
  {
   "cell_type": "code",
   "execution_count": null,
   "id": "9a3ec9a2",
   "metadata": {
    "hidden": true
   },
   "outputs": [],
   "source": []
  },
  {
   "cell_type": "markdown",
   "id": "22154305",
   "metadata": {
    "heading_collapsed": true
   },
   "source": [
    "### 1.3 Import "
   ]
  },
  {
   "cell_type": "code",
   "execution_count": 3,
   "id": "b95efda9",
   "metadata": {
    "ExecuteTime": {
     "end_time": "2023-02-01T12:17:49.923212Z",
     "start_time": "2023-02-01T12:17:48.848181Z"
    },
    "hidden": true
   },
   "outputs": [],
   "source": [
    "import os, sys, logging, warnings, logging\n",
    "from IPython.display import display\n",
    "\n",
    "import pandas as pd\n",
    "import numpy as np\n",
    "\n",
    "import matplotlib.pyplot as plt\n",
    "import seaborn as sns\n",
    "import plotly.express as px\n",
    "\n",
    "from sklearn.linear_model import *\n",
    "from sklearn.dummy import *\n",
    "from sklearn.neighbors import *\n",
    "from sklearn.ensemble import *\n",
    "\n",
    "from sklearn.pipeline import *\n",
    "from sklearn.preprocessing import *\n",
    "from sklearn.model_selection import *\n",
    "from sklearn.metrics import *\n",
    "from sklearn.datasets import *\n",
    "from sklearn.impute import *\n"
   ]
  },
  {
   "cell_type": "markdown",
   "id": "4c18dda1",
   "metadata": {
    "heading_collapsed": true
   },
   "source": [
    "### 1.4 Settings & graphics"
   ]
  },
  {
   "cell_type": "markdown",
   "id": "253c0a4a",
   "metadata": {
    "hidden": true
   },
   "source": [
    "Settings for sns"
   ]
  },
  {
   "cell_type": "code",
   "execution_count": 4,
   "id": "cd5d787b",
   "metadata": {
    "ExecuteTime": {
     "end_time": "2023-02-01T12:17:49.927462Z",
     "start_time": "2023-02-01T12:17:49.925045Z"
    },
    "hidden": true
   },
   "outputs": [],
   "source": [
    "sns.set()"
   ]
  },
  {
   "cell_type": "markdown",
   "id": "e148a2bb",
   "metadata": {
    "hidden": true
   },
   "source": [
    "Disable warnings"
   ]
  },
  {
   "cell_type": "code",
   "execution_count": 5,
   "id": "281074b9",
   "metadata": {
    "ExecuteTime": {
     "end_time": "2023-02-01T12:17:49.935131Z",
     "start_time": "2023-02-01T12:17:49.929084Z"
    },
    "hidden": true
   },
   "outputs": [],
   "source": [
    "warnings.filterwarnings(\"ignore\")"
   ]
  },
  {
   "cell_type": "markdown",
   "id": "42412d4f",
   "metadata": {
    "heading_collapsed": true
   },
   "source": [
    "### 1.5 Data"
   ]
  },
  {
   "cell_type": "code",
   "execution_count": 6,
   "id": "0356c071",
   "metadata": {
    "ExecuteTime": {
     "end_time": "2023-02-01T12:17:49.938528Z",
     "start_time": "2023-02-01T12:17:49.936644Z"
    },
    "hidden": true
   },
   "outputs": [],
   "source": [
    "url = \"https://gist.githubusercontent.com/AlexandreGazagnes/c52899a975ab6114f6ca83eeabd563b7/raw/d539a5028e53a2fa446c4dbdf142cc10066f8ec2/hr_datascience_train.csv\""
   ]
  },
  {
   "cell_type": "code",
   "execution_count": 7,
   "id": "9837306a",
   "metadata": {
    "ExecuteTime": {
     "end_time": "2023-02-01T12:17:50.465833Z",
     "start_time": "2023-02-01T12:17:49.939940Z"
    },
    "hidden": true
   },
   "outputs": [
    {
     "data": {
      "text/html": [
       "<div>\n",
       "<style scoped>\n",
       "    .dataframe tbody tr th:only-of-type {\n",
       "        vertical-align: middle;\n",
       "    }\n",
       "\n",
       "    .dataframe tbody tr th {\n",
       "        vertical-align: top;\n",
       "    }\n",
       "\n",
       "    .dataframe thead th {\n",
       "        text-align: right;\n",
       "    }\n",
       "</style>\n",
       "<table border=\"1\" class=\"dataframe\">\n",
       "  <thead>\n",
       "    <tr style=\"text-align: right;\">\n",
       "      <th></th>\n",
       "      <th>enrollee_id</th>\n",
       "      <th>city</th>\n",
       "      <th>city_development_index</th>\n",
       "      <th>gender</th>\n",
       "      <th>relevent_experience</th>\n",
       "      <th>enrolled_university</th>\n",
       "      <th>education_level</th>\n",
       "      <th>major_discipline</th>\n",
       "      <th>experience</th>\n",
       "      <th>company_size</th>\n",
       "      <th>company_type</th>\n",
       "      <th>last_new_job</th>\n",
       "      <th>training_hours</th>\n",
       "      <th>target</th>\n",
       "    </tr>\n",
       "  </thead>\n",
       "  <tbody>\n",
       "    <tr>\n",
       "      <th>0</th>\n",
       "      <td>8949</td>\n",
       "      <td>city_103</td>\n",
       "      <td>0.920</td>\n",
       "      <td>Male</td>\n",
       "      <td>Has relevent experience</td>\n",
       "      <td>no_enrollment</td>\n",
       "      <td>Graduate</td>\n",
       "      <td>STEM</td>\n",
       "      <td>&gt;20</td>\n",
       "      <td>NaN</td>\n",
       "      <td>NaN</td>\n",
       "      <td>1</td>\n",
       "      <td>36</td>\n",
       "      <td>1.0</td>\n",
       "    </tr>\n",
       "    <tr>\n",
       "      <th>1</th>\n",
       "      <td>29725</td>\n",
       "      <td>city_40</td>\n",
       "      <td>0.776</td>\n",
       "      <td>Male</td>\n",
       "      <td>No relevent experience</td>\n",
       "      <td>no_enrollment</td>\n",
       "      <td>Graduate</td>\n",
       "      <td>STEM</td>\n",
       "      <td>15</td>\n",
       "      <td>50-99</td>\n",
       "      <td>Pvt Ltd</td>\n",
       "      <td>&gt;4</td>\n",
       "      <td>47</td>\n",
       "      <td>0.0</td>\n",
       "    </tr>\n",
       "    <tr>\n",
       "      <th>2</th>\n",
       "      <td>11561</td>\n",
       "      <td>city_21</td>\n",
       "      <td>0.624</td>\n",
       "      <td>NaN</td>\n",
       "      <td>No relevent experience</td>\n",
       "      <td>Full time course</td>\n",
       "      <td>Graduate</td>\n",
       "      <td>STEM</td>\n",
       "      <td>5</td>\n",
       "      <td>NaN</td>\n",
       "      <td>NaN</td>\n",
       "      <td>never</td>\n",
       "      <td>83</td>\n",
       "      <td>0.0</td>\n",
       "    </tr>\n",
       "  </tbody>\n",
       "</table>\n",
       "</div>"
      ],
      "text/plain": [
       "   enrollee_id      city  city_development_index gender  \\\n",
       "0         8949  city_103                   0.920   Male   \n",
       "1        29725   city_40                   0.776   Male   \n",
       "2        11561   city_21                   0.624    NaN   \n",
       "\n",
       "       relevent_experience enrolled_university education_level  \\\n",
       "0  Has relevent experience       no_enrollment        Graduate   \n",
       "1   No relevent experience       no_enrollment        Graduate   \n",
       "2   No relevent experience    Full time course        Graduate   \n",
       "\n",
       "  major_discipline experience company_size company_type last_new_job  \\\n",
       "0             STEM        >20          NaN          NaN            1   \n",
       "1             STEM         15        50-99      Pvt Ltd           >4   \n",
       "2             STEM          5          NaN          NaN        never   \n",
       "\n",
       "   training_hours  target  \n",
       "0              36     1.0  \n",
       "1              47     0.0  \n",
       "2              83     0.0  "
      ]
     },
     "execution_count": 7,
     "metadata": {},
     "output_type": "execute_result"
    }
   ],
   "source": [
    "df = pd.read_csv(url)\n",
    "df.head(3)"
   ]
  },
  {
   "cell_type": "markdown",
   "id": "ae29bb4e",
   "metadata": {},
   "source": [
    "## 2. First Tour"
   ]
  },
  {
   "cell_type": "markdown",
   "id": "2ddf6b5a",
   "metadata": {
    "heading_collapsed": true
   },
   "source": [
    "### 2.1 Display"
   ]
  },
  {
   "cell_type": "code",
   "execution_count": 8,
   "id": "db6b4dbe",
   "metadata": {
    "ExecuteTime": {
     "end_time": "2023-02-01T12:17:50.481158Z",
     "start_time": "2023-02-01T12:17:50.469528Z"
    },
    "hidden": true
   },
   "outputs": [
    {
     "data": {
      "text/html": [
       "<div>\n",
       "<style scoped>\n",
       "    .dataframe tbody tr th:only-of-type {\n",
       "        vertical-align: middle;\n",
       "    }\n",
       "\n",
       "    .dataframe tbody tr th {\n",
       "        vertical-align: top;\n",
       "    }\n",
       "\n",
       "    .dataframe thead th {\n",
       "        text-align: right;\n",
       "    }\n",
       "</style>\n",
       "<table border=\"1\" class=\"dataframe\">\n",
       "  <thead>\n",
       "    <tr style=\"text-align: right;\">\n",
       "      <th></th>\n",
       "      <th>enrollee_id</th>\n",
       "      <th>city</th>\n",
       "      <th>city_development_index</th>\n",
       "      <th>gender</th>\n",
       "      <th>relevent_experience</th>\n",
       "      <th>enrolled_university</th>\n",
       "      <th>education_level</th>\n",
       "      <th>major_discipline</th>\n",
       "      <th>experience</th>\n",
       "      <th>company_size</th>\n",
       "      <th>company_type</th>\n",
       "      <th>last_new_job</th>\n",
       "      <th>training_hours</th>\n",
       "      <th>target</th>\n",
       "    </tr>\n",
       "  </thead>\n",
       "  <tbody>\n",
       "    <tr>\n",
       "      <th>0</th>\n",
       "      <td>8949</td>\n",
       "      <td>city_103</td>\n",
       "      <td>0.920</td>\n",
       "      <td>Male</td>\n",
       "      <td>Has relevent experience</td>\n",
       "      <td>no_enrollment</td>\n",
       "      <td>Graduate</td>\n",
       "      <td>STEM</td>\n",
       "      <td>&gt;20</td>\n",
       "      <td>NaN</td>\n",
       "      <td>NaN</td>\n",
       "      <td>1</td>\n",
       "      <td>36</td>\n",
       "      <td>1.0</td>\n",
       "    </tr>\n",
       "    <tr>\n",
       "      <th>1</th>\n",
       "      <td>29725</td>\n",
       "      <td>city_40</td>\n",
       "      <td>0.776</td>\n",
       "      <td>Male</td>\n",
       "      <td>No relevent experience</td>\n",
       "      <td>no_enrollment</td>\n",
       "      <td>Graduate</td>\n",
       "      <td>STEM</td>\n",
       "      <td>15</td>\n",
       "      <td>50-99</td>\n",
       "      <td>Pvt Ltd</td>\n",
       "      <td>&gt;4</td>\n",
       "      <td>47</td>\n",
       "      <td>0.0</td>\n",
       "    </tr>\n",
       "    <tr>\n",
       "      <th>2</th>\n",
       "      <td>11561</td>\n",
       "      <td>city_21</td>\n",
       "      <td>0.624</td>\n",
       "      <td>NaN</td>\n",
       "      <td>No relevent experience</td>\n",
       "      <td>Full time course</td>\n",
       "      <td>Graduate</td>\n",
       "      <td>STEM</td>\n",
       "      <td>5</td>\n",
       "      <td>NaN</td>\n",
       "      <td>NaN</td>\n",
       "      <td>never</td>\n",
       "      <td>83</td>\n",
       "      <td>0.0</td>\n",
       "    </tr>\n",
       "    <tr>\n",
       "      <th>3</th>\n",
       "      <td>33241</td>\n",
       "      <td>city_115</td>\n",
       "      <td>0.789</td>\n",
       "      <td>NaN</td>\n",
       "      <td>No relevent experience</td>\n",
       "      <td>NaN</td>\n",
       "      <td>Graduate</td>\n",
       "      <td>Business Degree</td>\n",
       "      <td>&lt;1</td>\n",
       "      <td>NaN</td>\n",
       "      <td>Pvt Ltd</td>\n",
       "      <td>never</td>\n",
       "      <td>52</td>\n",
       "      <td>1.0</td>\n",
       "    </tr>\n",
       "    <tr>\n",
       "      <th>4</th>\n",
       "      <td>666</td>\n",
       "      <td>city_162</td>\n",
       "      <td>0.767</td>\n",
       "      <td>Male</td>\n",
       "      <td>Has relevent experience</td>\n",
       "      <td>no_enrollment</td>\n",
       "      <td>Masters</td>\n",
       "      <td>STEM</td>\n",
       "      <td>&gt;20</td>\n",
       "      <td>50-99</td>\n",
       "      <td>Funded Startup</td>\n",
       "      <td>4</td>\n",
       "      <td>8</td>\n",
       "      <td>0.0</td>\n",
       "    </tr>\n",
       "    <tr>\n",
       "      <th>5</th>\n",
       "      <td>21651</td>\n",
       "      <td>city_176</td>\n",
       "      <td>0.764</td>\n",
       "      <td>NaN</td>\n",
       "      <td>Has relevent experience</td>\n",
       "      <td>Part time course</td>\n",
       "      <td>Graduate</td>\n",
       "      <td>STEM</td>\n",
       "      <td>11</td>\n",
       "      <td>NaN</td>\n",
       "      <td>NaN</td>\n",
       "      <td>1</td>\n",
       "      <td>24</td>\n",
       "      <td>1.0</td>\n",
       "    </tr>\n",
       "    <tr>\n",
       "      <th>6</th>\n",
       "      <td>28806</td>\n",
       "      <td>city_160</td>\n",
       "      <td>0.920</td>\n",
       "      <td>Male</td>\n",
       "      <td>Has relevent experience</td>\n",
       "      <td>no_enrollment</td>\n",
       "      <td>High School</td>\n",
       "      <td>NaN</td>\n",
       "      <td>5</td>\n",
       "      <td>50-99</td>\n",
       "      <td>Funded Startup</td>\n",
       "      <td>1</td>\n",
       "      <td>24</td>\n",
       "      <td>0.0</td>\n",
       "    </tr>\n",
       "    <tr>\n",
       "      <th>7</th>\n",
       "      <td>402</td>\n",
       "      <td>city_46</td>\n",
       "      <td>0.762</td>\n",
       "      <td>Male</td>\n",
       "      <td>Has relevent experience</td>\n",
       "      <td>no_enrollment</td>\n",
       "      <td>Graduate</td>\n",
       "      <td>STEM</td>\n",
       "      <td>13</td>\n",
       "      <td>&lt;10</td>\n",
       "      <td>Pvt Ltd</td>\n",
       "      <td>&gt;4</td>\n",
       "      <td>18</td>\n",
       "      <td>1.0</td>\n",
       "    </tr>\n",
       "    <tr>\n",
       "      <th>8</th>\n",
       "      <td>27107</td>\n",
       "      <td>city_103</td>\n",
       "      <td>0.920</td>\n",
       "      <td>Male</td>\n",
       "      <td>Has relevent experience</td>\n",
       "      <td>no_enrollment</td>\n",
       "      <td>Graduate</td>\n",
       "      <td>STEM</td>\n",
       "      <td>7</td>\n",
       "      <td>50-99</td>\n",
       "      <td>Pvt Ltd</td>\n",
       "      <td>1</td>\n",
       "      <td>46</td>\n",
       "      <td>1.0</td>\n",
       "    </tr>\n",
       "    <tr>\n",
       "      <th>9</th>\n",
       "      <td>699</td>\n",
       "      <td>city_103</td>\n",
       "      <td>0.920</td>\n",
       "      <td>NaN</td>\n",
       "      <td>Has relevent experience</td>\n",
       "      <td>no_enrollment</td>\n",
       "      <td>Graduate</td>\n",
       "      <td>STEM</td>\n",
       "      <td>17</td>\n",
       "      <td>10000+</td>\n",
       "      <td>Pvt Ltd</td>\n",
       "      <td>&gt;4</td>\n",
       "      <td>123</td>\n",
       "      <td>0.0</td>\n",
       "    </tr>\n",
       "  </tbody>\n",
       "</table>\n",
       "</div>"
      ],
      "text/plain": [
       "   enrollee_id      city  city_development_index gender  \\\n",
       "0         8949  city_103                   0.920   Male   \n",
       "1        29725   city_40                   0.776   Male   \n",
       "2        11561   city_21                   0.624    NaN   \n",
       "3        33241  city_115                   0.789    NaN   \n",
       "4          666  city_162                   0.767   Male   \n",
       "5        21651  city_176                   0.764    NaN   \n",
       "6        28806  city_160                   0.920   Male   \n",
       "7          402   city_46                   0.762   Male   \n",
       "8        27107  city_103                   0.920   Male   \n",
       "9          699  city_103                   0.920    NaN   \n",
       "\n",
       "       relevent_experience enrolled_university education_level  \\\n",
       "0  Has relevent experience       no_enrollment        Graduate   \n",
       "1   No relevent experience       no_enrollment        Graduate   \n",
       "2   No relevent experience    Full time course        Graduate   \n",
       "3   No relevent experience                 NaN        Graduate   \n",
       "4  Has relevent experience       no_enrollment         Masters   \n",
       "5  Has relevent experience    Part time course        Graduate   \n",
       "6  Has relevent experience       no_enrollment     High School   \n",
       "7  Has relevent experience       no_enrollment        Graduate   \n",
       "8  Has relevent experience       no_enrollment        Graduate   \n",
       "9  Has relevent experience       no_enrollment        Graduate   \n",
       "\n",
       "  major_discipline experience company_size    company_type last_new_job  \\\n",
       "0             STEM        >20          NaN             NaN            1   \n",
       "1             STEM         15        50-99         Pvt Ltd           >4   \n",
       "2             STEM          5          NaN             NaN        never   \n",
       "3  Business Degree         <1          NaN         Pvt Ltd        never   \n",
       "4             STEM        >20        50-99  Funded Startup            4   \n",
       "5             STEM         11          NaN             NaN            1   \n",
       "6              NaN          5        50-99  Funded Startup            1   \n",
       "7             STEM         13          <10         Pvt Ltd           >4   \n",
       "8             STEM          7        50-99         Pvt Ltd            1   \n",
       "9             STEM         17       10000+         Pvt Ltd           >4   \n",
       "\n",
       "   training_hours  target  \n",
       "0              36     1.0  \n",
       "1              47     0.0  \n",
       "2              83     0.0  \n",
       "3              52     1.0  \n",
       "4               8     0.0  \n",
       "5              24     1.0  \n",
       "6              24     0.0  \n",
       "7              18     1.0  \n",
       "8              46     1.0  \n",
       "9             123     0.0  "
      ]
     },
     "execution_count": 8,
     "metadata": {},
     "output_type": "execute_result"
    }
   ],
   "source": [
    "df.head(10)"
   ]
  },
  {
   "cell_type": "code",
   "execution_count": 9,
   "id": "4fc6cfa5",
   "metadata": {
    "ExecuteTime": {
     "end_time": "2023-02-01T12:17:50.497110Z",
     "start_time": "2023-02-01T12:17:50.482983Z"
    },
    "hidden": true
   },
   "outputs": [
    {
     "data": {
      "text/html": [
       "<div>\n",
       "<style scoped>\n",
       "    .dataframe tbody tr th:only-of-type {\n",
       "        vertical-align: middle;\n",
       "    }\n",
       "\n",
       "    .dataframe tbody tr th {\n",
       "        vertical-align: top;\n",
       "    }\n",
       "\n",
       "    .dataframe thead th {\n",
       "        text-align: right;\n",
       "    }\n",
       "</style>\n",
       "<table border=\"1\" class=\"dataframe\">\n",
       "  <thead>\n",
       "    <tr style=\"text-align: right;\">\n",
       "      <th></th>\n",
       "      <th>enrollee_id</th>\n",
       "      <th>city</th>\n",
       "      <th>city_development_index</th>\n",
       "      <th>gender</th>\n",
       "      <th>relevent_experience</th>\n",
       "      <th>enrolled_university</th>\n",
       "      <th>education_level</th>\n",
       "      <th>major_discipline</th>\n",
       "      <th>experience</th>\n",
       "      <th>company_size</th>\n",
       "      <th>company_type</th>\n",
       "      <th>last_new_job</th>\n",
       "      <th>training_hours</th>\n",
       "      <th>target</th>\n",
       "    </tr>\n",
       "  </thead>\n",
       "  <tbody>\n",
       "    <tr>\n",
       "      <th>19148</th>\n",
       "      <td>9212</td>\n",
       "      <td>city_21</td>\n",
       "      <td>0.624</td>\n",
       "      <td>NaN</td>\n",
       "      <td>Has relevent experience</td>\n",
       "      <td>no_enrollment</td>\n",
       "      <td>Masters</td>\n",
       "      <td>STEM</td>\n",
       "      <td>3</td>\n",
       "      <td>100-500</td>\n",
       "      <td>Pvt Ltd</td>\n",
       "      <td>3</td>\n",
       "      <td>40</td>\n",
       "      <td>1.0</td>\n",
       "    </tr>\n",
       "    <tr>\n",
       "      <th>19149</th>\n",
       "      <td>251</td>\n",
       "      <td>city_103</td>\n",
       "      <td>0.920</td>\n",
       "      <td>Male</td>\n",
       "      <td>Has relevent experience</td>\n",
       "      <td>no_enrollment</td>\n",
       "      <td>Masters</td>\n",
       "      <td>STEM</td>\n",
       "      <td>9</td>\n",
       "      <td>50-99</td>\n",
       "      <td>Pvt Ltd</td>\n",
       "      <td>1</td>\n",
       "      <td>36</td>\n",
       "      <td>1.0</td>\n",
       "    </tr>\n",
       "    <tr>\n",
       "      <th>19150</th>\n",
       "      <td>32313</td>\n",
       "      <td>city_160</td>\n",
       "      <td>0.920</td>\n",
       "      <td>Female</td>\n",
       "      <td>Has relevent experience</td>\n",
       "      <td>no_enrollment</td>\n",
       "      <td>Graduate</td>\n",
       "      <td>STEM</td>\n",
       "      <td>10</td>\n",
       "      <td>100-500</td>\n",
       "      <td>Public Sector</td>\n",
       "      <td>3</td>\n",
       "      <td>23</td>\n",
       "      <td>0.0</td>\n",
       "    </tr>\n",
       "    <tr>\n",
       "      <th>19151</th>\n",
       "      <td>11385</td>\n",
       "      <td>city_149</td>\n",
       "      <td>0.689</td>\n",
       "      <td>Male</td>\n",
       "      <td>No relevent experience</td>\n",
       "      <td>Full time course</td>\n",
       "      <td>Graduate</td>\n",
       "      <td>NaN</td>\n",
       "      <td>2</td>\n",
       "      <td>NaN</td>\n",
       "      <td>NaN</td>\n",
       "      <td>1</td>\n",
       "      <td>60</td>\n",
       "      <td>0.0</td>\n",
       "    </tr>\n",
       "    <tr>\n",
       "      <th>19152</th>\n",
       "      <td>29754</td>\n",
       "      <td>city_103</td>\n",
       "      <td>0.920</td>\n",
       "      <td>Female</td>\n",
       "      <td>Has relevent experience</td>\n",
       "      <td>no_enrollment</td>\n",
       "      <td>Graduate</td>\n",
       "      <td>Humanities</td>\n",
       "      <td>7</td>\n",
       "      <td>10/49</td>\n",
       "      <td>Funded Startup</td>\n",
       "      <td>1</td>\n",
       "      <td>25</td>\n",
       "      <td>0.0</td>\n",
       "    </tr>\n",
       "    <tr>\n",
       "      <th>19153</th>\n",
       "      <td>7386</td>\n",
       "      <td>city_173</td>\n",
       "      <td>0.878</td>\n",
       "      <td>Male</td>\n",
       "      <td>No relevent experience</td>\n",
       "      <td>no_enrollment</td>\n",
       "      <td>Graduate</td>\n",
       "      <td>Humanities</td>\n",
       "      <td>14</td>\n",
       "      <td>NaN</td>\n",
       "      <td>NaN</td>\n",
       "      <td>1</td>\n",
       "      <td>42</td>\n",
       "      <td>1.0</td>\n",
       "    </tr>\n",
       "    <tr>\n",
       "      <th>19154</th>\n",
       "      <td>31398</td>\n",
       "      <td>city_103</td>\n",
       "      <td>0.920</td>\n",
       "      <td>Male</td>\n",
       "      <td>Has relevent experience</td>\n",
       "      <td>no_enrollment</td>\n",
       "      <td>Graduate</td>\n",
       "      <td>STEM</td>\n",
       "      <td>14</td>\n",
       "      <td>NaN</td>\n",
       "      <td>NaN</td>\n",
       "      <td>4</td>\n",
       "      <td>52</td>\n",
       "      <td>1.0</td>\n",
       "    </tr>\n",
       "    <tr>\n",
       "      <th>19155</th>\n",
       "      <td>24576</td>\n",
       "      <td>city_103</td>\n",
       "      <td>0.920</td>\n",
       "      <td>Male</td>\n",
       "      <td>Has relevent experience</td>\n",
       "      <td>no_enrollment</td>\n",
       "      <td>Graduate</td>\n",
       "      <td>STEM</td>\n",
       "      <td>&gt;20</td>\n",
       "      <td>50-99</td>\n",
       "      <td>Pvt Ltd</td>\n",
       "      <td>4</td>\n",
       "      <td>44</td>\n",
       "      <td>0.0</td>\n",
       "    </tr>\n",
       "    <tr>\n",
       "      <th>19156</th>\n",
       "      <td>5756</td>\n",
       "      <td>city_65</td>\n",
       "      <td>0.802</td>\n",
       "      <td>Male</td>\n",
       "      <td>Has relevent experience</td>\n",
       "      <td>no_enrollment</td>\n",
       "      <td>High School</td>\n",
       "      <td>NaN</td>\n",
       "      <td>&lt;1</td>\n",
       "      <td>500-999</td>\n",
       "      <td>Pvt Ltd</td>\n",
       "      <td>2</td>\n",
       "      <td>97</td>\n",
       "      <td>0.0</td>\n",
       "    </tr>\n",
       "    <tr>\n",
       "      <th>19157</th>\n",
       "      <td>23834</td>\n",
       "      <td>city_67</td>\n",
       "      <td>0.855</td>\n",
       "      <td>NaN</td>\n",
       "      <td>No relevent experience</td>\n",
       "      <td>no_enrollment</td>\n",
       "      <td>Primary School</td>\n",
       "      <td>NaN</td>\n",
       "      <td>2</td>\n",
       "      <td>NaN</td>\n",
       "      <td>NaN</td>\n",
       "      <td>1</td>\n",
       "      <td>127</td>\n",
       "      <td>0.0</td>\n",
       "    </tr>\n",
       "  </tbody>\n",
       "</table>\n",
       "</div>"
      ],
      "text/plain": [
       "       enrollee_id      city  city_development_index  gender  \\\n",
       "19148         9212   city_21                   0.624     NaN   \n",
       "19149          251  city_103                   0.920    Male   \n",
       "19150        32313  city_160                   0.920  Female   \n",
       "19151        11385  city_149                   0.689    Male   \n",
       "19152        29754  city_103                   0.920  Female   \n",
       "19153         7386  city_173                   0.878    Male   \n",
       "19154        31398  city_103                   0.920    Male   \n",
       "19155        24576  city_103                   0.920    Male   \n",
       "19156         5756   city_65                   0.802    Male   \n",
       "19157        23834   city_67                   0.855     NaN   \n",
       "\n",
       "           relevent_experience enrolled_university education_level  \\\n",
       "19148  Has relevent experience       no_enrollment         Masters   \n",
       "19149  Has relevent experience       no_enrollment         Masters   \n",
       "19150  Has relevent experience       no_enrollment        Graduate   \n",
       "19151   No relevent experience    Full time course        Graduate   \n",
       "19152  Has relevent experience       no_enrollment        Graduate   \n",
       "19153   No relevent experience       no_enrollment        Graduate   \n",
       "19154  Has relevent experience       no_enrollment        Graduate   \n",
       "19155  Has relevent experience       no_enrollment        Graduate   \n",
       "19156  Has relevent experience       no_enrollment     High School   \n",
       "19157   No relevent experience       no_enrollment  Primary School   \n",
       "\n",
       "      major_discipline experience company_size    company_type last_new_job  \\\n",
       "19148             STEM          3      100-500         Pvt Ltd            3   \n",
       "19149             STEM          9        50-99         Pvt Ltd            1   \n",
       "19150             STEM         10      100-500   Public Sector            3   \n",
       "19151              NaN          2          NaN             NaN            1   \n",
       "19152       Humanities          7        10/49  Funded Startup            1   \n",
       "19153       Humanities         14          NaN             NaN            1   \n",
       "19154             STEM         14          NaN             NaN            4   \n",
       "19155             STEM        >20        50-99         Pvt Ltd            4   \n",
       "19156              NaN         <1      500-999         Pvt Ltd            2   \n",
       "19157              NaN          2          NaN             NaN            1   \n",
       "\n",
       "       training_hours  target  \n",
       "19148              40     1.0  \n",
       "19149              36     1.0  \n",
       "19150              23     0.0  \n",
       "19151              60     0.0  \n",
       "19152              25     0.0  \n",
       "19153              42     1.0  \n",
       "19154              52     1.0  \n",
       "19155              44     0.0  \n",
       "19156              97     0.0  \n",
       "19157             127     0.0  "
      ]
     },
     "execution_count": 9,
     "metadata": {},
     "output_type": "execute_result"
    }
   ],
   "source": [
    "df.tail(10)"
   ]
  },
  {
   "cell_type": "code",
   "execution_count": 10,
   "id": "f1e00459",
   "metadata": {
    "ExecuteTime": {
     "end_time": "2023-02-01T12:17:50.510386Z",
     "start_time": "2023-02-01T12:17:50.498627Z"
    },
    "hidden": true
   },
   "outputs": [
    {
     "data": {
      "text/html": [
       "<div>\n",
       "<style scoped>\n",
       "    .dataframe tbody tr th:only-of-type {\n",
       "        vertical-align: middle;\n",
       "    }\n",
       "\n",
       "    .dataframe tbody tr th {\n",
       "        vertical-align: top;\n",
       "    }\n",
       "\n",
       "    .dataframe thead th {\n",
       "        text-align: right;\n",
       "    }\n",
       "</style>\n",
       "<table border=\"1\" class=\"dataframe\">\n",
       "  <thead>\n",
       "    <tr style=\"text-align: right;\">\n",
       "      <th></th>\n",
       "      <th>enrollee_id</th>\n",
       "      <th>city</th>\n",
       "      <th>city_development_index</th>\n",
       "      <th>gender</th>\n",
       "      <th>relevent_experience</th>\n",
       "      <th>enrolled_university</th>\n",
       "      <th>education_level</th>\n",
       "      <th>major_discipline</th>\n",
       "      <th>experience</th>\n",
       "      <th>company_size</th>\n",
       "      <th>company_type</th>\n",
       "      <th>last_new_job</th>\n",
       "      <th>training_hours</th>\n",
       "      <th>target</th>\n",
       "    </tr>\n",
       "  </thead>\n",
       "  <tbody>\n",
       "    <tr>\n",
       "      <th>18106</th>\n",
       "      <td>12965</td>\n",
       "      <td>city_103</td>\n",
       "      <td>0.920</td>\n",
       "      <td>NaN</td>\n",
       "      <td>No relevent experience</td>\n",
       "      <td>Part time course</td>\n",
       "      <td>Primary School</td>\n",
       "      <td>NaN</td>\n",
       "      <td>1</td>\n",
       "      <td>10000+</td>\n",
       "      <td>Pvt Ltd</td>\n",
       "      <td>never</td>\n",
       "      <td>156</td>\n",
       "      <td>0.0</td>\n",
       "    </tr>\n",
       "    <tr>\n",
       "      <th>10789</th>\n",
       "      <td>8605</td>\n",
       "      <td>city_59</td>\n",
       "      <td>0.775</td>\n",
       "      <td>NaN</td>\n",
       "      <td>Has relevent experience</td>\n",
       "      <td>Full time course</td>\n",
       "      <td>Graduate</td>\n",
       "      <td>STEM</td>\n",
       "      <td>8</td>\n",
       "      <td>50-99</td>\n",
       "      <td>Pvt Ltd</td>\n",
       "      <td>NaN</td>\n",
       "      <td>164</td>\n",
       "      <td>0.0</td>\n",
       "    </tr>\n",
       "    <tr>\n",
       "      <th>14843</th>\n",
       "      <td>16951</td>\n",
       "      <td>city_160</td>\n",
       "      <td>0.920</td>\n",
       "      <td>Male</td>\n",
       "      <td>Has relevent experience</td>\n",
       "      <td>no_enrollment</td>\n",
       "      <td>Masters</td>\n",
       "      <td>STEM</td>\n",
       "      <td>&gt;20</td>\n",
       "      <td>50-99</td>\n",
       "      <td>NGO</td>\n",
       "      <td>&gt;4</td>\n",
       "      <td>13</td>\n",
       "      <td>1.0</td>\n",
       "    </tr>\n",
       "    <tr>\n",
       "      <th>5594</th>\n",
       "      <td>17142</td>\n",
       "      <td>city_160</td>\n",
       "      <td>0.920</td>\n",
       "      <td>Female</td>\n",
       "      <td>No relevent experience</td>\n",
       "      <td>Full time course</td>\n",
       "      <td>High School</td>\n",
       "      <td>NaN</td>\n",
       "      <td>9</td>\n",
       "      <td>NaN</td>\n",
       "      <td>NaN</td>\n",
       "      <td>1</td>\n",
       "      <td>105</td>\n",
       "      <td>1.0</td>\n",
       "    </tr>\n",
       "    <tr>\n",
       "      <th>6623</th>\n",
       "      <td>9767</td>\n",
       "      <td>city_103</td>\n",
       "      <td>0.920</td>\n",
       "      <td>Male</td>\n",
       "      <td>Has relevent experience</td>\n",
       "      <td>no_enrollment</td>\n",
       "      <td>Graduate</td>\n",
       "      <td>STEM</td>\n",
       "      <td>12</td>\n",
       "      <td>5000-9999</td>\n",
       "      <td>Pvt Ltd</td>\n",
       "      <td>1</td>\n",
       "      <td>106</td>\n",
       "      <td>0.0</td>\n",
       "    </tr>\n",
       "    <tr>\n",
       "      <th>9783</th>\n",
       "      <td>1785</td>\n",
       "      <td>city_21</td>\n",
       "      <td>0.624</td>\n",
       "      <td>Male</td>\n",
       "      <td>Has relevent experience</td>\n",
       "      <td>no_enrollment</td>\n",
       "      <td>Graduate</td>\n",
       "      <td>STEM</td>\n",
       "      <td>&gt;20</td>\n",
       "      <td>NaN</td>\n",
       "      <td>NaN</td>\n",
       "      <td>&gt;4</td>\n",
       "      <td>20</td>\n",
       "      <td>1.0</td>\n",
       "    </tr>\n",
       "    <tr>\n",
       "      <th>1151</th>\n",
       "      <td>28214</td>\n",
       "      <td>city_16</td>\n",
       "      <td>0.910</td>\n",
       "      <td>Female</td>\n",
       "      <td>Has relevent experience</td>\n",
       "      <td>no_enrollment</td>\n",
       "      <td>Graduate</td>\n",
       "      <td>STEM</td>\n",
       "      <td>10</td>\n",
       "      <td>100-500</td>\n",
       "      <td>Pvt Ltd</td>\n",
       "      <td>1</td>\n",
       "      <td>12</td>\n",
       "      <td>0.0</td>\n",
       "    </tr>\n",
       "    <tr>\n",
       "      <th>5505</th>\n",
       "      <td>4444</td>\n",
       "      <td>city_16</td>\n",
       "      <td>0.910</td>\n",
       "      <td>Male</td>\n",
       "      <td>Has relevent experience</td>\n",
       "      <td>no_enrollment</td>\n",
       "      <td>Graduate</td>\n",
       "      <td>STEM</td>\n",
       "      <td>15</td>\n",
       "      <td>50-99</td>\n",
       "      <td>Pvt Ltd</td>\n",
       "      <td>2</td>\n",
       "      <td>102</td>\n",
       "      <td>0.0</td>\n",
       "    </tr>\n",
       "    <tr>\n",
       "      <th>18971</th>\n",
       "      <td>27000</td>\n",
       "      <td>city_136</td>\n",
       "      <td>0.897</td>\n",
       "      <td>Male</td>\n",
       "      <td>Has relevent experience</td>\n",
       "      <td>no_enrollment</td>\n",
       "      <td>Masters</td>\n",
       "      <td>Other</td>\n",
       "      <td>12</td>\n",
       "      <td>50-99</td>\n",
       "      <td>Funded Startup</td>\n",
       "      <td>1</td>\n",
       "      <td>256</td>\n",
       "      <td>0.0</td>\n",
       "    </tr>\n",
       "    <tr>\n",
       "      <th>4011</th>\n",
       "      <td>5700</td>\n",
       "      <td>city_10</td>\n",
       "      <td>0.895</td>\n",
       "      <td>Male</td>\n",
       "      <td>Has relevent experience</td>\n",
       "      <td>Part time course</td>\n",
       "      <td>Graduate</td>\n",
       "      <td>STEM</td>\n",
       "      <td>12</td>\n",
       "      <td>10/49</td>\n",
       "      <td>Pvt Ltd</td>\n",
       "      <td>1</td>\n",
       "      <td>12</td>\n",
       "      <td>0.0</td>\n",
       "    </tr>\n",
       "  </tbody>\n",
       "</table>\n",
       "</div>"
      ],
      "text/plain": [
       "       enrollee_id      city  city_development_index  gender  \\\n",
       "18106        12965  city_103                   0.920     NaN   \n",
       "10789         8605   city_59                   0.775     NaN   \n",
       "14843        16951  city_160                   0.920    Male   \n",
       "5594         17142  city_160                   0.920  Female   \n",
       "6623          9767  city_103                   0.920    Male   \n",
       "9783          1785   city_21                   0.624    Male   \n",
       "1151         28214   city_16                   0.910  Female   \n",
       "5505          4444   city_16                   0.910    Male   \n",
       "18971        27000  city_136                   0.897    Male   \n",
       "4011          5700   city_10                   0.895    Male   \n",
       "\n",
       "           relevent_experience enrolled_university education_level  \\\n",
       "18106   No relevent experience    Part time course  Primary School   \n",
       "10789  Has relevent experience    Full time course        Graduate   \n",
       "14843  Has relevent experience       no_enrollment         Masters   \n",
       "5594    No relevent experience    Full time course     High School   \n",
       "6623   Has relevent experience       no_enrollment        Graduate   \n",
       "9783   Has relevent experience       no_enrollment        Graduate   \n",
       "1151   Has relevent experience       no_enrollment        Graduate   \n",
       "5505   Has relevent experience       no_enrollment        Graduate   \n",
       "18971  Has relevent experience       no_enrollment         Masters   \n",
       "4011   Has relevent experience    Part time course        Graduate   \n",
       "\n",
       "      major_discipline experience company_size    company_type last_new_job  \\\n",
       "18106              NaN          1       10000+         Pvt Ltd        never   \n",
       "10789             STEM          8        50-99         Pvt Ltd          NaN   \n",
       "14843             STEM        >20        50-99             NGO           >4   \n",
       "5594               NaN          9          NaN             NaN            1   \n",
       "6623              STEM         12    5000-9999         Pvt Ltd            1   \n",
       "9783              STEM        >20          NaN             NaN           >4   \n",
       "1151              STEM         10      100-500         Pvt Ltd            1   \n",
       "5505              STEM         15        50-99         Pvt Ltd            2   \n",
       "18971            Other         12        50-99  Funded Startup            1   \n",
       "4011              STEM         12        10/49         Pvt Ltd            1   \n",
       "\n",
       "       training_hours  target  \n",
       "18106             156     0.0  \n",
       "10789             164     0.0  \n",
       "14843              13     1.0  \n",
       "5594              105     1.0  \n",
       "6623              106     0.0  \n",
       "9783               20     1.0  \n",
       "1151               12     0.0  \n",
       "5505              102     0.0  \n",
       "18971             256     0.0  \n",
       "4011               12     0.0  "
      ]
     },
     "execution_count": 10,
     "metadata": {},
     "output_type": "execute_result"
    }
   ],
   "source": [
    "df.sample(10)"
   ]
  },
  {
   "cell_type": "markdown",
   "id": "4783b9ec",
   "metadata": {
    "heading_collapsed": true
   },
   "source": [
    "### 2.2 Structure"
   ]
  },
  {
   "cell_type": "code",
   "execution_count": 11,
   "id": "eb8cd91c",
   "metadata": {
    "ExecuteTime": {
     "end_time": "2023-02-01T12:17:50.514718Z",
     "start_time": "2023-02-01T12:17:50.511936Z"
    },
    "hidden": true
   },
   "outputs": [
    {
     "data": {
      "text/plain": [
       "(19158, 14)"
      ]
     },
     "execution_count": 11,
     "metadata": {},
     "output_type": "execute_result"
    }
   ],
   "source": [
    "df.shape"
   ]
  },
  {
   "cell_type": "code",
   "execution_count": 12,
   "id": "411c7c58",
   "metadata": {
    "ExecuteTime": {
     "end_time": "2023-02-01T12:17:50.520428Z",
     "start_time": "2023-02-01T12:17:50.516158Z"
    },
    "hidden": true
   },
   "outputs": [
    {
     "data": {
      "text/plain": [
       "enrollee_id                 int64\n",
       "city                       object\n",
       "city_development_index    float64\n",
       "gender                     object\n",
       "relevent_experience        object\n",
       "enrolled_university        object\n",
       "education_level            object\n",
       "major_discipline           object\n",
       "experience                 object\n",
       "company_size               object\n",
       "company_type               object\n",
       "last_new_job               object\n",
       "training_hours              int64\n",
       "target                    float64\n",
       "dtype: object"
      ]
     },
     "execution_count": 12,
     "metadata": {},
     "output_type": "execute_result"
    }
   ],
   "source": [
    "df.dtypes"
   ]
  },
  {
   "cell_type": "code",
   "execution_count": 13,
   "id": "1741541b",
   "metadata": {
    "ExecuteTime": {
     "end_time": "2023-02-01T12:17:50.549764Z",
     "start_time": "2023-02-01T12:17:50.521877Z"
    },
    "hidden": true
   },
   "outputs": [
    {
     "name": "stdout",
     "output_type": "stream",
     "text": [
      "<class 'pandas.core.frame.DataFrame'>\n",
      "RangeIndex: 19158 entries, 0 to 19157\n",
      "Data columns (total 14 columns):\n",
      " #   Column                  Non-Null Count  Dtype  \n",
      "---  ------                  --------------  -----  \n",
      " 0   enrollee_id             19158 non-null  int64  \n",
      " 1   city                    19158 non-null  object \n",
      " 2   city_development_index  19158 non-null  float64\n",
      " 3   gender                  14650 non-null  object \n",
      " 4   relevent_experience     19158 non-null  object \n",
      " 5   enrolled_university     18772 non-null  object \n",
      " 6   education_level         18698 non-null  object \n",
      " 7   major_discipline        16345 non-null  object \n",
      " 8   experience              19093 non-null  object \n",
      " 9   company_size            13220 non-null  object \n",
      " 10  company_type            13018 non-null  object \n",
      " 11  last_new_job            18735 non-null  object \n",
      " 12  training_hours          19158 non-null  int64  \n",
      " 13  target                  19158 non-null  float64\n",
      "dtypes: float64(2), int64(2), object(10)\n",
      "memory usage: 2.0+ MB\n"
     ]
    }
   ],
   "source": [
    "df.info()"
   ]
  },
  {
   "cell_type": "code",
   "execution_count": 14,
   "id": "9352a6ba",
   "metadata": {
    "ExecuteTime": {
     "end_time": "2023-02-01T12:17:50.555693Z",
     "start_time": "2023-02-01T12:17:50.551188Z"
    },
    "hidden": true
   },
   "outputs": [
    {
     "data": {
      "text/plain": [
       "object     10\n",
       "int64       2\n",
       "float64     2\n",
       "dtype: int64"
      ]
     },
     "execution_count": 14,
     "metadata": {},
     "output_type": "execute_result"
    }
   ],
   "source": [
    "df.dtypes.value_counts()"
   ]
  },
  {
   "cell_type": "markdown",
   "id": "c69a0bcd",
   "metadata": {
    "hidden": true
   },
   "source": [
    "<div class=\"alert alert-danger\" role=\"alert\">\n",
    "  <strong>\n",
    "      Trop de colonnes object ???\n",
    "    </strong>\n",
    "</div>"
   ]
  },
  {
   "cell_type": "code",
   "execution_count": 15,
   "id": "90aaa04d",
   "metadata": {
    "ExecuteTime": {
     "end_time": "2023-02-01T12:17:50.569054Z",
     "start_time": "2023-02-01T12:17:50.557668Z"
    },
    "hidden": true,
    "scrolled": true
   },
   "outputs": [
    {
     "data": {
      "text/plain": [
       "city                   123\n",
       "gender                   3\n",
       "relevent_experience      2\n",
       "enrolled_university      3\n",
       "education_level          5\n",
       "major_discipline         6\n",
       "experience              22\n",
       "company_size             8\n",
       "company_type             6\n",
       "last_new_job             6\n",
       "dtype: int64"
      ]
     },
     "execution_count": 15,
     "metadata": {},
     "output_type": "execute_result"
    }
   ],
   "source": [
    "df.select_dtypes(\"object\").nunique()"
   ]
  },
  {
   "cell_type": "code",
   "execution_count": null,
   "id": "8352761d",
   "metadata": {
    "hidden": true
   },
   "outputs": [],
   "source": []
  },
  {
   "cell_type": "code",
   "execution_count": null,
   "id": "2ed6c9af",
   "metadata": {
    "hidden": true
   },
   "outputs": [],
   "source": []
  },
  {
   "cell_type": "markdown",
   "id": "541f03fd",
   "metadata": {},
   "source": [
    "### 2.3 Nan & Duplicated"
   ]
  },
  {
   "cell_type": "code",
   "execution_count": 16,
   "id": "9aea9aef",
   "metadata": {
    "ExecuteTime": {
     "end_time": "2023-02-01T12:17:50.597978Z",
     "start_time": "2023-02-01T12:17:50.570660Z"
    }
   },
   "outputs": [
    {
     "data": {
      "text/plain": [
       "company_type           0.32\n",
       "company_size           0.31\n",
       "gender                 0.24\n",
       "major_discipline       0.15\n",
       "enrolled_university    0.02\n",
       "education_level        0.02\n",
       "last_new_job           0.02\n",
       "dtype: float64"
      ]
     },
     "execution_count": 16,
     "metadata": {},
     "output_type": "execute_result"
    }
   ],
   "source": [
    "tmp = df.isna().mean(axis=0).round(2)\n",
    "tmp = tmp[tmp>0.0]\n",
    "tmp.sort_values(ascending=False)"
   ]
  },
  {
   "cell_type": "code",
   "execution_count": 17,
   "id": "21bd02ac",
   "metadata": {
    "ExecuteTime": {
     "end_time": "2023-02-01T12:17:50.625746Z",
     "start_time": "2023-02-01T12:17:50.599545Z"
    }
   },
   "outputs": [
    {
     "data": {
      "text/plain": [
       "0.07    3718\n",
       "0.14    3654\n",
       "0.21    1953\n",
       "0.29     628\n",
       "0.36     176\n",
       "0.43      62\n",
       "0.50      12\n",
       "dtype: int64"
      ]
     },
     "execution_count": 17,
     "metadata": {},
     "output_type": "execute_result"
    }
   ],
   "source": [
    "tmp = df.isna().mean(axis=1).round(2)\n",
    "tmp = tmp[tmp>0.0]\n",
    "tmp.sort_values(ascending=False)\n",
    "tmp.value_counts()"
   ]
  },
  {
   "cell_type": "code",
   "execution_count": 18,
   "id": "49617647",
   "metadata": {
    "ExecuteTime": {
     "end_time": "2023-02-01T12:17:51.126110Z",
     "start_time": "2023-02-01T12:17:50.627295Z"
    }
   },
   "outputs": [
    {
     "data": {
      "image/png": "[encoded data removed]",
      "text/plain": [
       "<Figure size 864x432 with 2 Axes>"
      ]
     },
     "metadata": {},
     "output_type": "display_data"
    }
   ],
   "source": [
    "fig, ax = plt.subplots(1,1, figsize=(12,6))\n",
    "ax = sns.heatmap(df.isna())"
   ]
  },
  {
   "cell_type": "code",
   "execution_count": 19,
   "id": "fb17aa05",
   "metadata": {
    "ExecuteTime": {
     "end_time": "2023-02-01T12:17:51.143293Z",
     "start_time": "2023-02-01T12:17:51.127597Z"
    }
   },
   "outputs": [
    {
     "data": {
      "text/plain": [
       "0"
      ]
     },
     "execution_count": 19,
     "metadata": {},
     "output_type": "execute_result"
    }
   ],
   "source": [
    "df.duplicated().sum()"
   ]
  },
  {
   "cell_type": "code",
   "execution_count": 20,
   "id": "8b70ff72",
   "metadata": {
    "ExecuteTime": {
     "end_time": "2023-02-01T12:17:51.148160Z",
     "start_time": "2023-02-01T12:17:51.144601Z"
    }
   },
   "outputs": [
    {
     "data": {
      "text/plain": [
       "0"
      ]
     },
     "execution_count": 20,
     "metadata": {},
     "output_type": "execute_result"
    }
   ],
   "source": [
    "df.enrollee_id.duplicated().sum()"
   ]
  },
  {
   "cell_type": "markdown",
   "id": "c4fd67b6",
   "metadata": {},
   "source": [
    "### 1.5 Data Exploration"
   ]
  },
  {
   "cell_type": "code",
   "execution_count": 21,
   "id": "36742e55",
   "metadata": {
    "ExecuteTime": {
     "end_time": "2023-02-01T12:18:22.211056Z",
     "start_time": "2023-02-01T12:18:22.166823Z"
    }
   },
   "outputs": [
    {
     "data": {
      "text/html": [
       "<div>\n",
       "<style scoped>\n",
       "    .dataframe tbody tr th:only-of-type {\n",
       "        vertical-align: middle;\n",
       "    }\n",
       "\n",
       "    .dataframe tbody tr th {\n",
       "        vertical-align: top;\n",
       "    }\n",
       "\n",
       "    .dataframe thead th {\n",
       "        text-align: right;\n",
       "    }\n",
       "</style>\n",
       "<table border=\"1\" class=\"dataframe\">\n",
       "  <thead>\n",
       "    <tr style=\"text-align: right;\">\n",
       "      <th></th>\n",
       "      <th>enrollee_id</th>\n",
       "      <th>city_development_index</th>\n",
       "      <th>training_hours</th>\n",
       "      <th>target</th>\n",
       "    </tr>\n",
       "  </thead>\n",
       "  <tbody>\n",
       "    <tr>\n",
       "      <th>count</th>\n",
       "      <td>19158.000000</td>\n",
       "      <td>19158.000000</td>\n",
       "      <td>19158.000000</td>\n",
       "      <td>19158.000000</td>\n",
       "    </tr>\n",
       "    <tr>\n",
       "      <th>mean</th>\n",
       "      <td>16875.358179</td>\n",
       "      <td>0.828848</td>\n",
       "      <td>65.366896</td>\n",
       "      <td>0.249348</td>\n",
       "    </tr>\n",
       "    <tr>\n",
       "      <th>std</th>\n",
       "      <td>9616.292592</td>\n",
       "      <td>0.123362</td>\n",
       "      <td>60.058462</td>\n",
       "      <td>0.432647</td>\n",
       "    </tr>\n",
       "    <tr>\n",
       "      <th>min</th>\n",
       "      <td>1.000000</td>\n",
       "      <td>0.448000</td>\n",
       "      <td>1.000000</td>\n",
       "      <td>0.000000</td>\n",
       "    </tr>\n",
       "    <tr>\n",
       "      <th>25%</th>\n",
       "      <td>8554.250000</td>\n",
       "      <td>0.740000</td>\n",
       "      <td>23.000000</td>\n",
       "      <td>0.000000</td>\n",
       "    </tr>\n",
       "    <tr>\n",
       "      <th>50%</th>\n",
       "      <td>16982.500000</td>\n",
       "      <td>0.903000</td>\n",
       "      <td>47.000000</td>\n",
       "      <td>0.000000</td>\n",
       "    </tr>\n",
       "    <tr>\n",
       "      <th>75%</th>\n",
       "      <td>25169.750000</td>\n",
       "      <td>0.920000</td>\n",
       "      <td>88.000000</td>\n",
       "      <td>0.000000</td>\n",
       "    </tr>\n",
       "    <tr>\n",
       "      <th>max</th>\n",
       "      <td>33380.000000</td>\n",
       "      <td>0.949000</td>\n",
       "      <td>336.000000</td>\n",
       "      <td>1.000000</td>\n",
       "    </tr>\n",
       "  </tbody>\n",
       "</table>\n",
       "</div>"
      ],
      "text/plain": [
       "        enrollee_id  city_development_index  training_hours        target\n",
       "count  19158.000000            19158.000000    19158.000000  19158.000000\n",
       "mean   16875.358179                0.828848       65.366896      0.249348\n",
       "std     9616.292592                0.123362       60.058462      0.432647\n",
       "min        1.000000                0.448000        1.000000      0.000000\n",
       "25%     8554.250000                0.740000       23.000000      0.000000\n",
       "50%    16982.500000                0.903000       47.000000      0.000000\n",
       "75%    25169.750000                0.920000       88.000000      0.000000\n",
       "max    33380.000000                0.949000      336.000000      1.000000"
      ]
     },
     "execution_count": 21,
     "metadata": {},
     "output_type": "execute_result"
    }
   ],
   "source": [
    "df.describe()"
   ]
  },
  {
   "cell_type": "code",
   "execution_count": 22,
   "id": "b54cff82",
   "metadata": {
    "ExecuteTime": {
     "end_time": "2023-02-01T12:18:35.186146Z",
     "start_time": "2023-02-01T12:18:35.148582Z"
    }
   },
   "outputs": [
    {
     "data": {
      "text/html": [
       "<div>\n",
       "<style scoped>\n",
       "    .dataframe tbody tr th:only-of-type {\n",
       "        vertical-align: middle;\n",
       "    }\n",
       "\n",
       "    .dataframe tbody tr th {\n",
       "        vertical-align: top;\n",
       "    }\n",
       "\n",
       "    .dataframe thead th {\n",
       "        text-align: right;\n",
       "    }\n",
       "</style>\n",
       "<table border=\"1\" class=\"dataframe\">\n",
       "  <thead>\n",
       "    <tr style=\"text-align: right;\">\n",
       "      <th></th>\n",
       "      <th>city</th>\n",
       "      <th>gender</th>\n",
       "      <th>relevent_experience</th>\n",
       "      <th>enrolled_university</th>\n",
       "      <th>education_level</th>\n",
       "      <th>major_discipline</th>\n",
       "      <th>experience</th>\n",
       "      <th>company_size</th>\n",
       "      <th>company_type</th>\n",
       "      <th>last_new_job</th>\n",
       "    </tr>\n",
       "  </thead>\n",
       "  <tbody>\n",
       "    <tr>\n",
       "      <th>count</th>\n",
       "      <td>19158</td>\n",
       "      <td>14650</td>\n",
       "      <td>19158</td>\n",
       "      <td>18772</td>\n",
       "      <td>18698</td>\n",
       "      <td>16345</td>\n",
       "      <td>19093</td>\n",
       "      <td>13220</td>\n",
       "      <td>13018</td>\n",
       "      <td>18735</td>\n",
       "    </tr>\n",
       "    <tr>\n",
       "      <th>unique</th>\n",
       "      <td>123</td>\n",
       "      <td>3</td>\n",
       "      <td>2</td>\n",
       "      <td>3</td>\n",
       "      <td>5</td>\n",
       "      <td>6</td>\n",
       "      <td>22</td>\n",
       "      <td>8</td>\n",
       "      <td>6</td>\n",
       "      <td>6</td>\n",
       "    </tr>\n",
       "    <tr>\n",
       "      <th>top</th>\n",
       "      <td>city_103</td>\n",
       "      <td>Male</td>\n",
       "      <td>Has relevent experience</td>\n",
       "      <td>no_enrollment</td>\n",
       "      <td>Graduate</td>\n",
       "      <td>STEM</td>\n",
       "      <td>&gt;20</td>\n",
       "      <td>50-99</td>\n",
       "      <td>Pvt Ltd</td>\n",
       "      <td>1</td>\n",
       "    </tr>\n",
       "    <tr>\n",
       "      <th>freq</th>\n",
       "      <td>4355</td>\n",
       "      <td>13221</td>\n",
       "      <td>13792</td>\n",
       "      <td>13817</td>\n",
       "      <td>11598</td>\n",
       "      <td>14492</td>\n",
       "      <td>3286</td>\n",
       "      <td>3083</td>\n",
       "      <td>9817</td>\n",
       "      <td>8040</td>\n",
       "    </tr>\n",
       "  </tbody>\n",
       "</table>\n",
       "</div>"
      ],
      "text/plain": [
       "            city gender      relevent_experience enrolled_university  \\\n",
       "count      19158  14650                    19158               18772   \n",
       "unique       123      3                        2                   3   \n",
       "top     city_103   Male  Has relevent experience       no_enrollment   \n",
       "freq        4355  13221                    13792               13817   \n",
       "\n",
       "       education_level major_discipline experience company_size company_type  \\\n",
       "count            18698            16345      19093        13220        13018   \n",
       "unique               5                6         22            8            6   \n",
       "top           Graduate             STEM        >20        50-99      Pvt Ltd   \n",
       "freq             11598            14492       3286         3083         9817   \n",
       "\n",
       "       last_new_job  \n",
       "count         18735  \n",
       "unique            6  \n",
       "top               1  \n",
       "freq           8040  "
      ]
     },
     "execution_count": 22,
     "metadata": {},
     "output_type": "execute_result"
    }
   ],
   "source": [
    "df.describe(include=object)"
   ]
  },
  {
   "cell_type": "code",
   "execution_count": 26,
   "id": "07943303",
   "metadata": {
    "ExecuteTime": {
     "end_time": "2023-02-01T12:20:14.145145Z",
     "start_time": "2023-02-01T12:20:08.666633Z"
    }
   },
   "outputs": [
    {
     "data": {
      "text/plain": [
       "<seaborn.axisgrid.PairGrid at 0x7f53fde2b4f0>"
      ]
     },
     "execution_count": 26,
     "metadata": {},
     "output_type": "execute_result"
    },
    {
     "data": {
      "image/png": "[encoded data removed]",
      "text/plain": [
       "<Figure size 596.975x540 with 12 Axes>"
      ]
     },
     "metadata": {},
     "output_type": "display_data"
    }
   ],
   "source": [
    "sns.pairplot(df, hue=\"target\")"
   ]
  },
  {
   "cell_type": "code",
   "execution_count": 30,
   "id": "a26cd6f9",
   "metadata": {
    "ExecuteTime": {
     "end_time": "2023-02-01T12:21:56.784221Z",
     "start_time": "2023-02-01T12:21:56.591325Z"
    }
   },
   "outputs": [
    {
     "data": {
      "image/png": "[encoded data removed]",
      "text/plain": [
       "<Figure size 864x432 with 2 Axes>"
      ]
     },
     "metadata": {},
     "output_type": "display_data"
    }
   ],
   "source": [
    "corr = df.corr()\n",
    "triu = np.triu(corr)\n",
    "fig, ax = plt.subplots(1, 1, figsize=(12,6))\n",
    "ax = sns.heatmap(corr, \n",
    "           vmin=-1, vmax=1, \n",
    "           cmap=\"coolwarm\", \n",
    "           annot=True, fmt=\".2f\",\n",
    "           mask=triu)"
   ]
  },
  {
   "cell_type": "code",
   "execution_count": 36,
   "id": "b0e38068",
   "metadata": {
    "ExecuteTime": {
     "end_time": "2023-02-01T12:24:06.307834Z",
     "start_time": "2023-02-01T12:24:06.239377Z"
    }
   },
   "outputs": [
    {
     "data": {
      "text/html": [
       "<div>\n",
       "<style scoped>\n",
       "    .dataframe tbody tr th:only-of-type {\n",
       "        vertical-align: middle;\n",
       "    }\n",
       "\n",
       "    .dataframe tbody tr th {\n",
       "        vertical-align: top;\n",
       "    }\n",
       "\n",
       "    .dataframe thead th {\n",
       "        text-align: right;\n",
       "    }\n",
       "</style>\n",
       "<table border=\"1\" class=\"dataframe\">\n",
       "  <thead>\n",
       "    <tr style=\"text-align: right;\">\n",
       "      <th></th>\n",
       "      <th>city</th>\n",
       "    </tr>\n",
       "  </thead>\n",
       "  <tbody>\n",
       "    <tr>\n",
       "      <th>city_103</th>\n",
       "      <td>4355</td>\n",
       "    </tr>\n",
       "    <tr>\n",
       "      <th>city_21</th>\n",
       "      <td>2702</td>\n",
       "    </tr>\n",
       "    <tr>\n",
       "      <th>city_16</th>\n",
       "      <td>1533</td>\n",
       "    </tr>\n",
       "    <tr>\n",
       "      <th>city_114</th>\n",
       "      <td>1336</td>\n",
       "    </tr>\n",
       "    <tr>\n",
       "      <th>city_160</th>\n",
       "      <td>845</td>\n",
       "    </tr>\n",
       "  </tbody>\n",
       "</table>\n",
       "</div>"
      ],
      "text/plain": [
       "          city\n",
       "city_103  4355\n",
       "city_21   2702\n",
       "city_16   1533\n",
       "city_114  1336\n",
       "city_160   845"
      ]
     },
     "metadata": {},
     "output_type": "display_data"
    },
    {
     "data": {
      "text/html": [
       "<div>\n",
       "<style scoped>\n",
       "    .dataframe tbody tr th:only-of-type {\n",
       "        vertical-align: middle;\n",
       "    }\n",
       "\n",
       "    .dataframe tbody tr th {\n",
       "        vertical-align: top;\n",
       "    }\n",
       "\n",
       "    .dataframe thead th {\n",
       "        text-align: right;\n",
       "    }\n",
       "</style>\n",
       "<table border=\"1\" class=\"dataframe\">\n",
       "  <thead>\n",
       "    <tr style=\"text-align: right;\">\n",
       "      <th></th>\n",
       "      <th>gender</th>\n",
       "    </tr>\n",
       "  </thead>\n",
       "  <tbody>\n",
       "    <tr>\n",
       "      <th>Male</th>\n",
       "      <td>13221</td>\n",
       "    </tr>\n",
       "    <tr>\n",
       "      <th>Female</th>\n",
       "      <td>1238</td>\n",
       "    </tr>\n",
       "    <tr>\n",
       "      <th>Other</th>\n",
       "      <td>191</td>\n",
       "    </tr>\n",
       "  </tbody>\n",
       "</table>\n",
       "</div>"
      ],
      "text/plain": [
       "        gender\n",
       "Male     13221\n",
       "Female    1238\n",
       "Other      191"
      ]
     },
     "metadata": {},
     "output_type": "display_data"
    },
    {
     "data": {
      "text/html": [
       "<div>\n",
       "<style scoped>\n",
       "    .dataframe tbody tr th:only-of-type {\n",
       "        vertical-align: middle;\n",
       "    }\n",
       "\n",
       "    .dataframe tbody tr th {\n",
       "        vertical-align: top;\n",
       "    }\n",
       "\n",
       "    .dataframe thead th {\n",
       "        text-align: right;\n",
       "    }\n",
       "</style>\n",
       "<table border=\"1\" class=\"dataframe\">\n",
       "  <thead>\n",
       "    <tr style=\"text-align: right;\">\n",
       "      <th></th>\n",
       "      <th>relevent_experience</th>\n",
       "    </tr>\n",
       "  </thead>\n",
       "  <tbody>\n",
       "    <tr>\n",
       "      <th>Has relevent experience</th>\n",
       "      <td>13792</td>\n",
       "    </tr>\n",
       "    <tr>\n",
       "      <th>No relevent experience</th>\n",
       "      <td>5366</td>\n",
       "    </tr>\n",
       "  </tbody>\n",
       "</table>\n",
       "</div>"
      ],
      "text/plain": [
       "                         relevent_experience\n",
       "Has relevent experience                13792\n",
       "No relevent experience                  5366"
      ]
     },
     "metadata": {},
     "output_type": "display_data"
    },
    {
     "data": {
      "text/html": [
       "<div>\n",
       "<style scoped>\n",
       "    .dataframe tbody tr th:only-of-type {\n",
       "        vertical-align: middle;\n",
       "    }\n",
       "\n",
       "    .dataframe tbody tr th {\n",
       "        vertical-align: top;\n",
       "    }\n",
       "\n",
       "    .dataframe thead th {\n",
       "        text-align: right;\n",
       "    }\n",
       "</style>\n",
       "<table border=\"1\" class=\"dataframe\">\n",
       "  <thead>\n",
       "    <tr style=\"text-align: right;\">\n",
       "      <th></th>\n",
       "      <th>enrolled_university</th>\n",
       "    </tr>\n",
       "  </thead>\n",
       "  <tbody>\n",
       "    <tr>\n",
       "      <th>no_enrollment</th>\n",
       "      <td>13817</td>\n",
       "    </tr>\n",
       "    <tr>\n",
       "      <th>Full time course</th>\n",
       "      <td>3757</td>\n",
       "    </tr>\n",
       "    <tr>\n",
       "      <th>Part time course</th>\n",
       "      <td>1198</td>\n",
       "    </tr>\n",
       "  </tbody>\n",
       "</table>\n",
       "</div>"
      ],
      "text/plain": [
       "                  enrolled_university\n",
       "no_enrollment                   13817\n",
       "Full time course                 3757\n",
       "Part time course                 1198"
      ]
     },
     "metadata": {},
     "output_type": "display_data"
    },
    {
     "data": {
      "text/html": [
       "<div>\n",
       "<style scoped>\n",
       "    .dataframe tbody tr th:only-of-type {\n",
       "        vertical-align: middle;\n",
       "    }\n",
       "\n",
       "    .dataframe tbody tr th {\n",
       "        vertical-align: top;\n",
       "    }\n",
       "\n",
       "    .dataframe thead th {\n",
       "        text-align: right;\n",
       "    }\n",
       "</style>\n",
       "<table border=\"1\" class=\"dataframe\">\n",
       "  <thead>\n",
       "    <tr style=\"text-align: right;\">\n",
       "      <th></th>\n",
       "      <th>education_level</th>\n",
       "    </tr>\n",
       "  </thead>\n",
       "  <tbody>\n",
       "    <tr>\n",
       "      <th>Graduate</th>\n",
       "      <td>11598</td>\n",
       "    </tr>\n",
       "    <tr>\n",
       "      <th>Masters</th>\n",
       "      <td>4361</td>\n",
       "    </tr>\n",
       "    <tr>\n",
       "      <th>High School</th>\n",
       "      <td>2017</td>\n",
       "    </tr>\n",
       "    <tr>\n",
       "      <th>Phd</th>\n",
       "      <td>414</td>\n",
       "    </tr>\n",
       "    <tr>\n",
       "      <th>Primary School</th>\n",
       "      <td>308</td>\n",
       "    </tr>\n",
       "  </tbody>\n",
       "</table>\n",
       "</div>"
      ],
      "text/plain": [
       "                education_level\n",
       "Graduate                  11598\n",
       "Masters                    4361\n",
       "High School                2017\n",
       "Phd                         414\n",
       "Primary School              308"
      ]
     },
     "metadata": {},
     "output_type": "display_data"
    },
    {
     "data": {
      "text/html": [
       "<div>\n",
       "<style scoped>\n",
       "    .dataframe tbody tr th:only-of-type {\n",
       "        vertical-align: middle;\n",
       "    }\n",
       "\n",
       "    .dataframe tbody tr th {\n",
       "        vertical-align: top;\n",
       "    }\n",
       "\n",
       "    .dataframe thead th {\n",
       "        text-align: right;\n",
       "    }\n",
       "</style>\n",
       "<table border=\"1\" class=\"dataframe\">\n",
       "  <thead>\n",
       "    <tr style=\"text-align: right;\">\n",
       "      <th></th>\n",
       "      <th>major_discipline</th>\n",
       "    </tr>\n",
       "  </thead>\n",
       "  <tbody>\n",
       "    <tr>\n",
       "      <th>STEM</th>\n",
       "      <td>14492</td>\n",
       "    </tr>\n",
       "    <tr>\n",
       "      <th>Humanities</th>\n",
       "      <td>669</td>\n",
       "    </tr>\n",
       "    <tr>\n",
       "      <th>Other</th>\n",
       "      <td>381</td>\n",
       "    </tr>\n",
       "    <tr>\n",
       "      <th>Business Degree</th>\n",
       "      <td>327</td>\n",
       "    </tr>\n",
       "    <tr>\n",
       "      <th>Arts</th>\n",
       "      <td>253</td>\n",
       "    </tr>\n",
       "  </tbody>\n",
       "</table>\n",
       "</div>"
      ],
      "text/plain": [
       "                 major_discipline\n",
       "STEM                        14492\n",
       "Humanities                    669\n",
       "Other                         381\n",
       "Business Degree               327\n",
       "Arts                          253"
      ]
     },
     "metadata": {},
     "output_type": "display_data"
    },
    {
     "data": {
      "text/html": [
       "<div>\n",
       "<style scoped>\n",
       "    .dataframe tbody tr th:only-of-type {\n",
       "        vertical-align: middle;\n",
       "    }\n",
       "\n",
       "    .dataframe tbody tr th {\n",
       "        vertical-align: top;\n",
       "    }\n",
       "\n",
       "    .dataframe thead th {\n",
       "        text-align: right;\n",
       "    }\n",
       "</style>\n",
       "<table border=\"1\" class=\"dataframe\">\n",
       "  <thead>\n",
       "    <tr style=\"text-align: right;\">\n",
       "      <th></th>\n",
       "      <th>experience</th>\n",
       "    </tr>\n",
       "  </thead>\n",
       "  <tbody>\n",
       "    <tr>\n",
       "      <th>&gt;20</th>\n",
       "      <td>3286</td>\n",
       "    </tr>\n",
       "    <tr>\n",
       "      <th>5</th>\n",
       "      <td>1430</td>\n",
       "    </tr>\n",
       "    <tr>\n",
       "      <th>4</th>\n",
       "      <td>1403</td>\n",
       "    </tr>\n",
       "    <tr>\n",
       "      <th>3</th>\n",
       "      <td>1354</td>\n",
       "    </tr>\n",
       "    <tr>\n",
       "      <th>6</th>\n",
       "      <td>1216</td>\n",
       "    </tr>\n",
       "  </tbody>\n",
       "</table>\n",
       "</div>"
      ],
      "text/plain": [
       "     experience\n",
       ">20        3286\n",
       "5          1430\n",
       "4          1403\n",
       "3          1354\n",
       "6          1216"
      ]
     },
     "metadata": {},
     "output_type": "display_data"
    },
    {
     "data": {
      "text/html": [
       "<div>\n",
       "<style scoped>\n",
       "    .dataframe tbody tr th:only-of-type {\n",
       "        vertical-align: middle;\n",
       "    }\n",
       "\n",
       "    .dataframe tbody tr th {\n",
       "        vertical-align: top;\n",
       "    }\n",
       "\n",
       "    .dataframe thead th {\n",
       "        text-align: right;\n",
       "    }\n",
       "</style>\n",
       "<table border=\"1\" class=\"dataframe\">\n",
       "  <thead>\n",
       "    <tr style=\"text-align: right;\">\n",
       "      <th></th>\n",
       "      <th>company_size</th>\n",
       "    </tr>\n",
       "  </thead>\n",
       "  <tbody>\n",
       "    <tr>\n",
       "      <th>50-99</th>\n",
       "      <td>3083</td>\n",
       "    </tr>\n",
       "    <tr>\n",
       "      <th>100-500</th>\n",
       "      <td>2571</td>\n",
       "    </tr>\n",
       "    <tr>\n",
       "      <th>10000+</th>\n",
       "      <td>2019</td>\n",
       "    </tr>\n",
       "    <tr>\n",
       "      <th>10/49</th>\n",
       "      <td>1471</td>\n",
       "    </tr>\n",
       "    <tr>\n",
       "      <th>1000-4999</th>\n",
       "      <td>1328</td>\n",
       "    </tr>\n",
       "  </tbody>\n",
       "</table>\n",
       "</div>"
      ],
      "text/plain": [
       "           company_size\n",
       "50-99              3083\n",
       "100-500            2571\n",
       "10000+             2019\n",
       "10/49              1471\n",
       "1000-4999          1328"
      ]
     },
     "metadata": {},
     "output_type": "display_data"
    },
    {
     "data": {
      "text/html": [
       "<div>\n",
       "<style scoped>\n",
       "    .dataframe tbody tr th:only-of-type {\n",
       "        vertical-align: middle;\n",
       "    }\n",
       "\n",
       "    .dataframe tbody tr th {\n",
       "        vertical-align: top;\n",
       "    }\n",
       "\n",
       "    .dataframe thead th {\n",
       "        text-align: right;\n",
       "    }\n",
       "</style>\n",
       "<table border=\"1\" class=\"dataframe\">\n",
       "  <thead>\n",
       "    <tr style=\"text-align: right;\">\n",
       "      <th></th>\n",
       "      <th>company_type</th>\n",
       "    </tr>\n",
       "  </thead>\n",
       "  <tbody>\n",
       "    <tr>\n",
       "      <th>Pvt Ltd</th>\n",
       "      <td>9817</td>\n",
       "    </tr>\n",
       "    <tr>\n",
       "      <th>Funded Startup</th>\n",
       "      <td>1001</td>\n",
       "    </tr>\n",
       "    <tr>\n",
       "      <th>Public Sector</th>\n",
       "      <td>955</td>\n",
       "    </tr>\n",
       "    <tr>\n",
       "      <th>Early Stage Startup</th>\n",
       "      <td>603</td>\n",
       "    </tr>\n",
       "    <tr>\n",
       "      <th>NGO</th>\n",
       "      <td>521</td>\n",
       "    </tr>\n",
       "  </tbody>\n",
       "</table>\n",
       "</div>"
      ],
      "text/plain": [
       "                     company_type\n",
       "Pvt Ltd                      9817\n",
       "Funded Startup               1001\n",
       "Public Sector                 955\n",
       "Early Stage Startup           603\n",
       "NGO                           521"
      ]
     },
     "metadata": {},
     "output_type": "display_data"
    },
    {
     "data": {
      "text/html": [
       "<div>\n",
       "<style scoped>\n",
       "    .dataframe tbody tr th:only-of-type {\n",
       "        vertical-align: middle;\n",
       "    }\n",
       "\n",
       "    .dataframe tbody tr th {\n",
       "        vertical-align: top;\n",
       "    }\n",
       "\n",
       "    .dataframe thead th {\n",
       "        text-align: right;\n",
       "    }\n",
       "</style>\n",
       "<table border=\"1\" class=\"dataframe\">\n",
       "  <thead>\n",
       "    <tr style=\"text-align: right;\">\n",
       "      <th></th>\n",
       "      <th>last_new_job</th>\n",
       "    </tr>\n",
       "  </thead>\n",
       "  <tbody>\n",
       "    <tr>\n",
       "      <th>1</th>\n",
       "      <td>8040</td>\n",
       "    </tr>\n",
       "    <tr>\n",
       "      <th>&gt;4</th>\n",
       "      <td>3290</td>\n",
       "    </tr>\n",
       "    <tr>\n",
       "      <th>2</th>\n",
       "      <td>2900</td>\n",
       "    </tr>\n",
       "    <tr>\n",
       "      <th>never</th>\n",
       "      <td>2452</td>\n",
       "    </tr>\n",
       "    <tr>\n",
       "      <th>4</th>\n",
       "      <td>1029</td>\n",
       "    </tr>\n",
       "  </tbody>\n",
       "</table>\n",
       "</div>"
      ],
      "text/plain": [
       "       last_new_job\n",
       "1              8040\n",
       ">4             3290\n",
       "2              2900\n",
       "never          2452\n",
       "4              1029"
      ]
     },
     "metadata": {},
     "output_type": "display_data"
    }
   ],
   "source": [
    "for col in df.select_dtypes(object).columns : \n",
    "    \n",
    "    ser = df[col].value_counts().sort_values(ascending=False).head()\n",
    "    display(pd.DataFrame(ser))"
   ]
  },
  {
   "cell_type": "code",
   "execution_count": null,
   "id": "5da34435",
   "metadata": {},
   "outputs": [],
   "source": []
  },
  {
   "cell_type": "code",
   "execution_count": null,
   "id": "b4b63276",
   "metadata": {},
   "outputs": [],
   "source": []
  },
  {
   "cell_type": "code",
   "execution_count": null,
   "id": "b15d2094",
   "metadata": {},
   "outputs": [],
   "source": []
  },
  {
   "cell_type": "code",
   "execution_count": null,
   "id": "81cb4abb",
   "metadata": {},
   "outputs": [],
   "source": []
  },
  {
   "cell_type": "code",
   "execution_count": null,
   "id": "f063b53a",
   "metadata": {},
   "outputs": [],
   "source": []
  },
  {
   "cell_type": "code",
   "execution_count": null,
   "id": "6cd109d2",
   "metadata": {},
   "outputs": [],
   "source": []
  }
 ],
 "metadata": {
  "hide_input": false,
  "kernelspec": {
   "display_name": "Python 3",
   "language": "python",
   "name": "python3"
  },
  "language_info": {
   "codemirror_mode": {
    "name": "ipython",
    "version": 3
   },
   "file_extension": ".py",
   "mimetype": "text/x-python",
   "name": "python",
   "nbconvert_exporter": "python",
   "pygments_lexer": "ipython3",
   "version": "3.8.10"
  },
  "vscode": {
   "interpreter": {
    "hash": "73345439cdb13e0fe7849e95f63e0cba16240c411436f8afd6edfc71906c1f47"
   }
  }
 },
 "nbformat": 4,
 "nbformat_minor": 5
}
