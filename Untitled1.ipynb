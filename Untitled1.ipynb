{
 "cells": [
  {
   "cell_type": "markdown",
   "id": "ee086331",
   "metadata": {},
   "source": [
    "# Fancy DS Stuff"
   ]
  },
  {
   "cell_type": "markdown",
   "id": "2c3eab76",
   "metadata": {},
   "source": [
    "## 1. Preliminary "
   ]
  },
  {
   "cell_type": "markdown",
   "id": "b57cf52e",
   "metadata": {
    "heading_collapsed": true
   },
   "source": [
    "### 1.1 Context"
   ]
  },
  {
   "cell_type": "markdown",
   "id": "5021d4df",
   "metadata": {
    "hidden": true
   },
   "source": [
    "Just to use Mlflow"
   ]
  },
  {
   "cell_type": "markdown",
   "id": "1c18f08b",
   "metadata": {
    "heading_collapsed": true
   },
   "source": [
    "### 1.2 Install"
   ]
  },
  {
   "cell_type": "code",
   "execution_count": null,
   "id": "48bc4e69",
   "metadata": {
    "ExecuteTime": {
     "end_time": "2023-02-01T12:04:14.301752Z",
     "start_time": "2023-02-01T12:04:14.084117Z"
    },
    "hidden": true
   },
   "outputs": [],
   "source": [
    "!python -V"
   ]
  },
  {
   "cell_type": "code",
   "execution_count": null,
   "id": "70a8e596",
   "metadata": {
    "ExecuteTime": {
     "end_time": "2023-02-01T12:04:17.544934Z",
     "start_time": "2023-02-01T12:04:14.310752Z"
    },
    "hidden": true
   },
   "outputs": [],
   "source": [
    "!pip install -r requirements.txt"
   ]
  },
  {
   "cell_type": "code",
   "execution_count": null,
   "id": "9a3ec9a2",
   "metadata": {
    "hidden": true
   },
   "outputs": [],
   "source": []
  },
  {
   "cell_type": "markdown",
   "id": "22154305",
   "metadata": {
    "heading_collapsed": true
   },
   "source": [
    "### 1.3 Import "
   ]
  },
  {
   "cell_type": "code",
   "execution_count": null,
   "id": "b95efda9",
   "metadata": {
    "ExecuteTime": {
     "end_time": "2023-02-01T12:04:17.559414Z",
     "start_time": "2023-02-01T12:04:17.553176Z"
    },
    "hidden": true
   },
   "outputs": [],
   "source": [
    "import os, sys, logging, warnings, logging\n",
    "from IPython.display import display\n",
    "\n",
    "import pandas as pd\n",
    "import numpy as np\n",
    "\n",
    "import matplotlib.pyplot as plt\n",
    "import seaborn as sns\n",
    "import plotly.express as px\n",
    "\n",
    "from sklearn.linear_model import *\n",
    "from sklearn.dummy import *\n",
    "from sklearn.neighbors import *\n",
    "from sklearn.ensemble import *\n",
    "\n",
    "from sklearn.pipeline import *\n",
    "from sklearn.preprocessing import *\n",
    "from sklearn.model_selection import *\n",
    "from sklearn.metrics import *\n",
    "from sklearn.datasets import *\n",
    "from sklearn.impute import *\n"
   ]
  },
  {
   "cell_type": "markdown",
   "id": "4c18dda1",
   "metadata": {
    "heading_collapsed": true
   },
   "source": [
    "### 1.4 Settings & graphics"
   ]
  },
  {
   "cell_type": "markdown",
   "id": "253c0a4a",
   "metadata": {
    "hidden": true
   },
   "source": [
    "Settings for sns"
   ]
  },
  {
   "cell_type": "code",
   "execution_count": null,
   "id": "cd5d787b",
   "metadata": {
    "ExecuteTime": {
     "end_time": "2023-02-01T12:04:17.568395Z",
     "start_time": "2023-02-01T12:04:17.561276Z"
    },
    "hidden": true
   },
   "outputs": [],
   "source": [
    "sns.set()"
   ]
  },
  {
   "cell_type": "markdown",
   "id": "e148a2bb",
   "metadata": {
    "hidden": true
   },
   "source": [
    "Disable warnings"
   ]
  },
  {
   "cell_type": "code",
   "execution_count": null,
   "id": "281074b9",
   "metadata": {
    "ExecuteTime": {
     "end_time": "2023-02-01T12:04:17.572547Z",
     "start_time": "2023-02-01T12:04:17.570305Z"
    },
    "hidden": true
   },
   "outputs": [],
   "source": [
    "warnings.filterwarnings(\"ignore\")"
   ]
  },
  {
   "cell_type": "markdown",
   "id": "42412d4f",
   "metadata": {
    "heading_collapsed": true
   },
   "source": [
    "### 1.5 Data"
   ]
  },
  {
   "cell_type": "code",
   "execution_count": null,
   "id": "0356c071",
   "metadata": {
    "ExecuteTime": {
     "end_time": "2023-02-01T12:04:17.576115Z",
     "start_time": "2023-02-01T12:04:17.574101Z"
    },
    "hidden": true
   },
   "outputs": [],
   "source": [
    "url = \"https://gist.githubusercontent.com/AlexandreGazagnes/c52899a975ab6114f6ca83eeabd563b7/raw/d539a5028e53a2fa446c4dbdf142cc10066f8ec2/hr_datascience_train.csv\""
   ]
  },
  {
   "cell_type": "code",
   "execution_count": null,
   "id": "9837306a",
   "metadata": {
    "ExecuteTime": {
     "end_time": "2023-02-01T12:04:17.897423Z",
     "start_time": "2023-02-01T12:04:17.578188Z"
    },
    "hidden": true
   },
   "outputs": [],
   "source": [
    "df = pd.read_csv(url)\n",
    "df.head(3)"
   ]
  },
  {
   "cell_type": "markdown",
   "id": "ae29bb4e",
   "metadata": {},
   "source": [
    "## 2. First Tour"
   ]
  },
  {
   "cell_type": "markdown",
   "id": "2ddf6b5a",
   "metadata": {
    "heading_collapsed": true
   },
   "source": [
    "### 2.1 Display"
   ]
  },
  {
   "cell_type": "code",
   "execution_count": null,
   "id": "db6b4dbe",
   "metadata": {
    "ExecuteTime": {
     "end_time": "2023-02-01T12:05:33.492157Z",
     "start_time": "2023-02-01T12:05:33.475939Z"
    },
    "hidden": true
   },
   "outputs": [],
   "source": [
    "df.head(10)"
   ]
  },
  {
   "cell_type": "code",
   "execution_count": null,
   "id": "4fc6cfa5",
   "metadata": {
    "ExecuteTime": {
     "end_time": "2023-02-01T12:05:33.665116Z",
     "start_time": "2023-02-01T12:05:33.637067Z"
    },
    "hidden": true
   },
   "outputs": [],
   "source": [
    "df.tail(10)"
   ]
  },
  {
   "cell_type": "code",
   "execution_count": null,
   "id": "f1e00459",
   "metadata": {
    "ExecuteTime": {
     "end_time": "2023-02-01T12:05:33.829527Z",
     "start_time": "2023-02-01T12:05:33.804386Z"
    },
    "hidden": true
   },
   "outputs": [],
   "source": [
    "df.sample(10)"
   ]
  },
  {
   "cell_type": "markdown",
   "id": "4783b9ec",
   "metadata": {
    "heading_collapsed": true
   },
   "source": [
    "### 2.2 Structure"
   ]
  },
  {
   "cell_type": "code",
   "execution_count": null,
   "id": "eb8cd91c",
   "metadata": {
    "ExecuteTime": {
     "end_time": "2023-02-01T12:05:34.751644Z",
     "start_time": "2023-02-01T12:05:34.747448Z"
    },
    "hidden": true
   },
   "outputs": [],
   "source": [
    "df.shape"
   ]
  },
  {
   "cell_type": "code",
   "execution_count": null,
   "id": "411c7c58",
   "metadata": {
    "ExecuteTime": {
     "end_time": "2023-02-01T12:05:34.922888Z",
     "start_time": "2023-02-01T12:05:34.913121Z"
    },
    "hidden": true
   },
   "outputs": [],
   "source": [
    "df.dtypes"
   ]
  },
  {
   "cell_type": "code",
   "execution_count": null,
   "id": "1741541b",
   "metadata": {
    "ExecuteTime": {
     "end_time": "2023-02-01T12:05:35.962101Z",
     "start_time": "2023-02-01T12:05:35.930722Z"
    },
    "hidden": true
   },
   "outputs": [],
   "source": [
    "df.info()"
   ]
  },
  {
   "cell_type": "code",
   "execution_count": null,
   "id": "9352a6ba",
   "metadata": {
    "ExecuteTime": {
     "end_time": "2023-02-01T12:08:14.086361Z",
     "start_time": "2023-02-01T12:08:14.081405Z"
    },
    "hidden": true
   },
   "outputs": [],
   "source": [
    "df.dtypes.value_counts()"
   ]
  },
  {
   "cell_type": "markdown",
   "id": "c69a0bcd",
   "metadata": {
    "hidden": true
   },
   "source": [
    "<div class=\"alert alert-danger\" role=\"alert\">\n",
    "  <strong>\n",
    "      Trop de colonnes object ???\n",
    "    </strong>\n",
    "</div>"
   ]
  },
  {
   "cell_type": "code",
   "execution_count": null,
   "id": "90aaa04d",
   "metadata": {
    "ExecuteTime": {
     "end_time": "2023-02-01T12:08:51.330577Z",
     "start_time": "2023-02-01T12:08:51.315875Z"
    },
    "hidden": true,
    "scrolled": true
   },
   "outputs": [],
   "source": [
    "df.select_dtypes(\"object\").nunique()"
   ]
  },
  {
   "cell_type": "code",
   "execution_count": null,
   "id": "8352761d",
   "metadata": {
    "hidden": true
   },
   "outputs": [],
   "source": []
  },
  {
   "cell_type": "code",
   "execution_count": null,
   "id": "2ed6c9af",
   "metadata": {
    "hidden": true
   },
   "outputs": [],
   "source": []
  },
  {
   "cell_type": "markdown",
   "id": "541f03fd",
   "metadata": {
    "heading_collapsed": true
   },
   "source": [
    "### 2.3 Nan & Duplicated"
   ]
  },
  {
   "cell_type": "code",
   "execution_count": null,
   "id": "9aea9aef",
   "metadata": {
    "ExecuteTime": {
     "end_time": "2023-02-01T12:10:37.319216Z",
     "start_time": "2023-02-01T12:10:37.287988Z"
    },
    "hidden": true
   },
   "outputs": [],
   "source": [
    "tmp = df.isna().mean(axis=0).round(2)\n",
    "tmp = tmp[tmp>0.0]\n",
    "tmp.sort_values(ascending=False)"
   ]
  },
  {
   "cell_type": "code",
   "execution_count": null,
   "id": "21bd02ac",
   "metadata": {
    "ExecuteTime": {
     "end_time": "2023-02-01T12:11:35.278919Z",
     "start_time": "2023-02-01T12:11:35.248811Z"
    },
    "hidden": true
   },
   "outputs": [],
   "source": [
    "tmp = df.isna().mean(axis=1).round(2)\n",
    "tmp = tmp[tmp>0.0]\n",
    "tmp.sort_values(ascending=False)\n",
    "tmp.value_counts()"
   ]
  },
  {
   "cell_type": "code",
   "execution_count": null,
   "id": "49617647",
   "metadata": {
    "ExecuteTime": {
     "end_time": "2023-02-01T12:12:49.289332Z",
     "start_time": "2023-02-01T12:12:48.885040Z"
    },
    "hidden": true
   },
   "outputs": [],
   "source": [
    "fig, ax = plt.subplots(1,1, figsize=(12,6))\n",
    "ax = sns.heatmap(df.isna())"
   ]
  },
  {
   "cell_type": "code",
   "execution_count": null,
   "id": "fb17aa05",
   "metadata": {
    "ExecuteTime": {
     "end_time": "2023-02-01T12:13:14.784151Z",
     "start_time": "2023-02-01T12:13:14.762955Z"
    },
    "hidden": true
   },
   "outputs": [],
   "source": [
    "df.duplicated().sum()"
   ]
  },
  {
   "cell_type": "code",
   "execution_count": null,
   "id": "8b70ff72",
   "metadata": {
    "ExecuteTime": {
     "end_time": "2023-02-01T12:13:30.536660Z",
     "start_time": "2023-02-01T12:13:30.531329Z"
    },
    "hidden": true
   },
   "outputs": [],
   "source": [
    "df.enrollee_id.duplicated().sum()"
   ]
  },
  {
   "cell_type": "code",
   "execution_count": null,
   "id": "21cdd186",
   "metadata": {
    "hidden": true
   },
   "outputs": [],
   "source": []
  }
 ],
 "metadata": {
  "hide_input": false,
  "kernelspec": {
   "display_name": "Python 3",
   "language": "python",
   "name": "python3"
  },
  "language_info": {
   "codemirror_mode": {
    "name": "ipython",
    "version": 3
   },
   "file_extension": ".py",
   "mimetype": "text/x-python",
   "name": "python",
   "nbconvert_exporter": "python",
   "pygments_lexer": "ipython3",
   "version": "3.8.10"
  }
 },
 "nbformat": 4,
 "nbformat_minor": 5
}
